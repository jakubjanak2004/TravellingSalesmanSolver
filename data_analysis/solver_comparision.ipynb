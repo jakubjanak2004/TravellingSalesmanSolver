{
 "cells": [
  {
   "cell_type": "code",
   "id": "initial_id",
   "metadata": {
    "collapsed": true,
    "ExecuteTime": {
     "end_time": "2024-11-11T10:55:54.607212Z",
     "start_time": "2024-11-11T10:55:54.602296Z"
    }
   },
   "source": [
    "import numpy as np\n",
    "import pandas as pd\n",
    "import matplotlib.pyplot as plt"
   ],
   "outputs": [],
   "execution_count": 27
  },
  {
   "metadata": {
    "ExecuteTime": {
     "end_time": "2024-11-11T10:55:54.982143Z",
     "start_time": "2024-11-11T10:55:54.979419Z"
    }
   },
   "cell_type": "code",
   "source": "data_path = '../files/data/'",
   "id": "e64fd7020ff70666",
   "outputs": [],
   "execution_count": 28
  },
  {
   "metadata": {
    "ExecuteTime": {
     "end_time": "2024-11-11T10:55:55.339328Z",
     "start_time": "2024-11-11T10:55:55.331851Z"
    }
   },
   "cell_type": "code",
   "source": [
    "solve_vs_brute_force = pd.read_csv(data_path + 'solve_vs_brute_force.csv', header=None)\n",
    "solve_vs_solve_parallel = pd.read_csv(data_path + 'solve_vs_solve_parallel.csv', header=None)\n",
    "\n",
    "solve_vs_brute_force.columns = ['instance_size', 'solver_t', 'time_in_ns']\n",
    "solve_vs_solve_parallel.columns = ['instance_size', 'solver_t', 'time_in_ns']\n",
    "\n",
    "solve_vs_brute_force['solver_t'] = solve_vs_brute_force['solver_t'].str.strip()\n",
    "solve_vs_solve_parallel['solver_t'] = solve_vs_solve_parallel['solver_t'].str.strip()"
   ],
   "id": "67653af87648314c",
   "outputs": [],
   "execution_count": 29
  },
  {
   "metadata": {},
   "cell_type": "markdown",
   "source": "# Solve vs Brute Force",
   "id": "f0c74f75ef6cf2aa"
  },
  {
   "metadata": {
    "ExecuteTime": {
     "end_time": "2024-11-11T10:55:56.293459Z",
     "start_time": "2024-11-11T10:55:56.286888Z"
    }
   },
   "cell_type": "code",
   "source": "solve_vs_brute_force.info()",
   "id": "fce794262a7e658a",
   "outputs": [
    {
     "name": "stdout",
     "output_type": "stream",
     "text": [
      "<class 'pandas.core.frame.DataFrame'>\n",
      "RangeIndex: 280 entries, 0 to 279\n",
      "Data columns (total 3 columns):\n",
      " #   Column         Non-Null Count  Dtype \n",
      "---  ------         --------------  ----- \n",
      " 0   instance_size  280 non-null    int64 \n",
      " 1   solver_t       280 non-null    object\n",
      " 2   time_in_ns     280 non-null    int64 \n",
      "dtypes: int64(2), object(1)\n",
      "memory usage: 6.7+ KB\n"
     ]
    }
   ],
   "execution_count": 30
  },
  {
   "metadata": {
    "ExecuteTime": {
     "end_time": "2024-11-11T10:55:56.774859Z",
     "start_time": "2024-11-11T10:55:56.768567Z"
    }
   },
   "cell_type": "code",
   "source": "solve_vs_brute_force.head()",
   "id": "664c89d40ec383fd",
   "outputs": [
    {
     "data": {
      "text/plain": [
       "   instance_size      solver_t  time_in_ns\n",
       "0              3  branch_bound       54292\n",
       "1              3   brute_force       15166\n",
       "2              3  branch_bound       57625\n",
       "3              3   brute_force       14750\n",
       "4              3  branch_bound       48916"
      ],
      "text/html": [
       "<div>\n",
       "<style scoped>\n",
       "    .dataframe tbody tr th:only-of-type {\n",
       "        vertical-align: middle;\n",
       "    }\n",
       "\n",
       "    .dataframe tbody tr th {\n",
       "        vertical-align: top;\n",
       "    }\n",
       "\n",
       "    .dataframe thead th {\n",
       "        text-align: right;\n",
       "    }\n",
       "</style>\n",
       "<table border=\"1\" class=\"dataframe\">\n",
       "  <thead>\n",
       "    <tr style=\"text-align: right;\">\n",
       "      <th></th>\n",
       "      <th>instance_size</th>\n",
       "      <th>solver_t</th>\n",
       "      <th>time_in_ns</th>\n",
       "    </tr>\n",
       "  </thead>\n",
       "  <tbody>\n",
       "    <tr>\n",
       "      <th>0</th>\n",
       "      <td>3</td>\n",
       "      <td>branch_bound</td>\n",
       "      <td>54292</td>\n",
       "    </tr>\n",
       "    <tr>\n",
       "      <th>1</th>\n",
       "      <td>3</td>\n",
       "      <td>brute_force</td>\n",
       "      <td>15166</td>\n",
       "    </tr>\n",
       "    <tr>\n",
       "      <th>2</th>\n",
       "      <td>3</td>\n",
       "      <td>branch_bound</td>\n",
       "      <td>57625</td>\n",
       "    </tr>\n",
       "    <tr>\n",
       "      <th>3</th>\n",
       "      <td>3</td>\n",
       "      <td>brute_force</td>\n",
       "      <td>14750</td>\n",
       "    </tr>\n",
       "    <tr>\n",
       "      <th>4</th>\n",
       "      <td>3</td>\n",
       "      <td>branch_bound</td>\n",
       "      <td>48916</td>\n",
       "    </tr>\n",
       "  </tbody>\n",
       "</table>\n",
       "</div>"
      ]
     },
     "execution_count": 31,
     "metadata": {},
     "output_type": "execute_result"
    }
   ],
   "execution_count": 31
  },
  {
   "metadata": {
    "ExecuteTime": {
     "end_time": "2024-11-11T10:55:57.330287Z",
     "start_time": "2024-11-11T10:55:57.321491Z"
    }
   },
   "cell_type": "code",
   "source": [
    "solve_vs_brute_grouped = solve_vs_brute_force.groupby(['instance_size', 'solver_t'])['time_in_ns'].mean()\n",
    "solve_vs_brute_grouped = solve_vs_brute_grouped.reset_index()\n",
    "bb_data = solve_vs_brute_grouped[solve_vs_brute_grouped['solver_t'] == 'branch_bound']\n",
    "bf_data = solve_vs_brute_grouped[solve_vs_brute_grouped['solver_t'] == 'brute_force']\n",
    "\n",
    "bb_data"
   ],
   "id": "46860e941ef47048",
   "outputs": [
    {
     "data": {
      "text/plain": [
       "    instance_size      solver_t   time_in_ns\n",
       "0               3  branch_bound     53385.35\n",
       "2               4  branch_bound    142891.55\n",
       "4               5  branch_bound    393400.00\n",
       "6               6  branch_bound   1045722.90\n",
       "8               7  branch_bound   2807106.20\n",
       "10              8  branch_bound   8301727.00\n",
       "12              9  branch_bound  20672929.10"
      ],
      "text/html": [
       "<div>\n",
       "<style scoped>\n",
       "    .dataframe tbody tr th:only-of-type {\n",
       "        vertical-align: middle;\n",
       "    }\n",
       "\n",
       "    .dataframe tbody tr th {\n",
       "        vertical-align: top;\n",
       "    }\n",
       "\n",
       "    .dataframe thead th {\n",
       "        text-align: right;\n",
       "    }\n",
       "</style>\n",
       "<table border=\"1\" class=\"dataframe\">\n",
       "  <thead>\n",
       "    <tr style=\"text-align: right;\">\n",
       "      <th></th>\n",
       "      <th>instance_size</th>\n",
       "      <th>solver_t</th>\n",
       "      <th>time_in_ns</th>\n",
       "    </tr>\n",
       "  </thead>\n",
       "  <tbody>\n",
       "    <tr>\n",
       "      <th>0</th>\n",
       "      <td>3</td>\n",
       "      <td>branch_bound</td>\n",
       "      <td>53385.35</td>\n",
       "    </tr>\n",
       "    <tr>\n",
       "      <th>2</th>\n",
       "      <td>4</td>\n",
       "      <td>branch_bound</td>\n",
       "      <td>142891.55</td>\n",
       "    </tr>\n",
       "    <tr>\n",
       "      <th>4</th>\n",
       "      <td>5</td>\n",
       "      <td>branch_bound</td>\n",
       "      <td>393400.00</td>\n",
       "    </tr>\n",
       "    <tr>\n",
       "      <th>6</th>\n",
       "      <td>6</td>\n",
       "      <td>branch_bound</td>\n",
       "      <td>1045722.90</td>\n",
       "    </tr>\n",
       "    <tr>\n",
       "      <th>8</th>\n",
       "      <td>7</td>\n",
       "      <td>branch_bound</td>\n",
       "      <td>2807106.20</td>\n",
       "    </tr>\n",
       "    <tr>\n",
       "      <th>10</th>\n",
       "      <td>8</td>\n",
       "      <td>branch_bound</td>\n",
       "      <td>8301727.00</td>\n",
       "    </tr>\n",
       "    <tr>\n",
       "      <th>12</th>\n",
       "      <td>9</td>\n",
       "      <td>branch_bound</td>\n",
       "      <td>20672929.10</td>\n",
       "    </tr>\n",
       "  </tbody>\n",
       "</table>\n",
       "</div>"
      ]
     },
     "execution_count": 32,
     "metadata": {},
     "output_type": "execute_result"
    }
   ],
   "execution_count": 32
  },
  {
   "metadata": {
    "ExecuteTime": {
     "end_time": "2024-11-11T10:55:57.851627Z",
     "start_time": "2024-11-11T10:55:57.845901Z"
    }
   },
   "cell_type": "code",
   "source": "bf_data",
   "id": "f131570f036538d3",
   "outputs": [
    {
     "data": {
      "text/plain": [
       "    instance_size     solver_t    time_in_ns\n",
       "1               3  brute_force  1.458550e+04\n",
       "3               4  brute_force  4.983745e+04\n",
       "5               5  brute_force  2.192563e+05\n",
       "7               6  brute_force  1.149087e+06\n",
       "9               7  brute_force  7.948296e+06\n",
       "11              8  brute_force  6.302365e+07\n",
       "13              9  brute_force  6.145159e+08"
      ],
      "text/html": [
       "<div>\n",
       "<style scoped>\n",
       "    .dataframe tbody tr th:only-of-type {\n",
       "        vertical-align: middle;\n",
       "    }\n",
       "\n",
       "    .dataframe tbody tr th {\n",
       "        vertical-align: top;\n",
       "    }\n",
       "\n",
       "    .dataframe thead th {\n",
       "        text-align: right;\n",
       "    }\n",
       "</style>\n",
       "<table border=\"1\" class=\"dataframe\">\n",
       "  <thead>\n",
       "    <tr style=\"text-align: right;\">\n",
       "      <th></th>\n",
       "      <th>instance_size</th>\n",
       "      <th>solver_t</th>\n",
       "      <th>time_in_ns</th>\n",
       "    </tr>\n",
       "  </thead>\n",
       "  <tbody>\n",
       "    <tr>\n",
       "      <th>1</th>\n",
       "      <td>3</td>\n",
       "      <td>brute_force</td>\n",
       "      <td>1.458550e+04</td>\n",
       "    </tr>\n",
       "    <tr>\n",
       "      <th>3</th>\n",
       "      <td>4</td>\n",
       "      <td>brute_force</td>\n",
       "      <td>4.983745e+04</td>\n",
       "    </tr>\n",
       "    <tr>\n",
       "      <th>5</th>\n",
       "      <td>5</td>\n",
       "      <td>brute_force</td>\n",
       "      <td>2.192563e+05</td>\n",
       "    </tr>\n",
       "    <tr>\n",
       "      <th>7</th>\n",
       "      <td>6</td>\n",
       "      <td>brute_force</td>\n",
       "      <td>1.149087e+06</td>\n",
       "    </tr>\n",
       "    <tr>\n",
       "      <th>9</th>\n",
       "      <td>7</td>\n",
       "      <td>brute_force</td>\n",
       "      <td>7.948296e+06</td>\n",
       "    </tr>\n",
       "    <tr>\n",
       "      <th>11</th>\n",
       "      <td>8</td>\n",
       "      <td>brute_force</td>\n",
       "      <td>6.302365e+07</td>\n",
       "    </tr>\n",
       "    <tr>\n",
       "      <th>13</th>\n",
       "      <td>9</td>\n",
       "      <td>brute_force</td>\n",
       "      <td>6.145159e+08</td>\n",
       "    </tr>\n",
       "  </tbody>\n",
       "</table>\n",
       "</div>"
      ]
     },
     "execution_count": 33,
     "metadata": {},
     "output_type": "execute_result"
    }
   ],
   "execution_count": 33
  },
  {
   "metadata": {
    "ExecuteTime": {
     "end_time": "2024-11-11T10:55:58.534825Z",
     "start_time": "2024-11-11T10:55:58.416437Z"
    }
   },
   "cell_type": "code",
   "source": [
    "plt.figure(figsize=(10, 6))\n",
    "plt.title(\"Brute Force vs. Branch-Bound\")\n",
    "plt.plot(bf_data['instance_size'], bf_data['time_in_ns'], label='Brute Force', marker='o', color='r')\n",
    "plt.plot(bb_data['instance_size'], bb_data['time_in_ns'], label='Branch Bound', marker='o', color='b')\n",
    "plt.legend()\n",
    "plt.show()"
   ],
   "id": "6e2d3e2bc7b2fe4a",
   "outputs": [
    {
     "data": {
      "text/plain": [
       "<Figure size 1000x600 with 1 Axes>"
      ],
      "image/png": "[encoded data removed]"
     },
     "metadata": {},
     "output_type": "display_data"
    }
   ],
   "execution_count": 34
  },
  {
   "metadata": {},
   "cell_type": "markdown",
   "source": "# Solve vs Solve Parallel",
   "id": "ad4c1f3500b6dc0f"
  },
  {
   "metadata": {
    "ExecuteTime": {
     "end_time": "2024-11-11T10:55:59.669993Z",
     "start_time": "2024-11-11T10:55:59.662829Z"
    }
   },
   "cell_type": "code",
   "source": "solve_vs_solve_parallel.info()",
   "id": "fb2ca647c4ebbe4c",
   "outputs": [
    {
     "name": "stdout",
     "output_type": "stream",
     "text": [
      "<class 'pandas.core.frame.DataFrame'>\n",
      "RangeIndex: 720 entries, 0 to 719\n",
      "Data columns (total 3 columns):\n",
      " #   Column         Non-Null Count  Dtype \n",
      "---  ------         --------------  ----- \n",
      " 0   instance_size  720 non-null    int64 \n",
      " 1   solver_t       720 non-null    object\n",
      " 2   time_in_ns     720 non-null    int64 \n",
      "dtypes: int64(2), object(1)\n",
      "memory usage: 17.0+ KB\n"
     ]
    }
   ],
   "execution_count": 35
  },
  {
   "metadata": {
    "ExecuteTime": {
     "end_time": "2024-11-11T10:56:00.159260Z",
     "start_time": "2024-11-11T10:56:00.151979Z"
    }
   },
   "cell_type": "code",
   "source": "solve_vs_solve_parallel.head()",
   "id": "374d4b3092523e93",
   "outputs": [
    {
     "data": {
      "text/plain": [
       "   instance_size      solver_t  time_in_ns\n",
       "0              3  branch_bound       54292\n",
       "1              3   brute_force       15166\n",
       "2              3  branch_bound       57625\n",
       "3              3   brute_force       14750\n",
       "4              3  branch_bound       48916"
      ],
      "text/html": [
       "<div>\n",
       "<style scoped>\n",
       "    .dataframe tbody tr th:only-of-type {\n",
       "        vertical-align: middle;\n",
       "    }\n",
       "\n",
       "    .dataframe tbody tr th {\n",
       "        vertical-align: top;\n",
       "    }\n",
       "\n",
       "    .dataframe thead th {\n",
       "        text-align: right;\n",
       "    }\n",
       "</style>\n",
       "<table border=\"1\" class=\"dataframe\">\n",
       "  <thead>\n",
       "    <tr style=\"text-align: right;\">\n",
       "      <th></th>\n",
       "      <th>instance_size</th>\n",
       "      <th>solver_t</th>\n",
       "      <th>time_in_ns</th>\n",
       "    </tr>\n",
       "  </thead>\n",
       "  <tbody>\n",
       "    <tr>\n",
       "      <th>0</th>\n",
       "      <td>3</td>\n",
       "      <td>branch_bound</td>\n",
       "      <td>54292</td>\n",
       "    </tr>\n",
       "    <tr>\n",
       "      <th>1</th>\n",
       "      <td>3</td>\n",
       "      <td>brute_force</td>\n",
       "      <td>15166</td>\n",
       "    </tr>\n",
       "    <tr>\n",
       "      <th>2</th>\n",
       "      <td>3</td>\n",
       "      <td>branch_bound</td>\n",
       "      <td>57625</td>\n",
       "    </tr>\n",
       "    <tr>\n",
       "      <th>3</th>\n",
       "      <td>3</td>\n",
       "      <td>brute_force</td>\n",
       "      <td>14750</td>\n",
       "    </tr>\n",
       "    <tr>\n",
       "      <th>4</th>\n",
       "      <td>3</td>\n",
       "      <td>branch_bound</td>\n",
       "      <td>48916</td>\n",
       "    </tr>\n",
       "  </tbody>\n",
       "</table>\n",
       "</div>"
      ]
     },
     "execution_count": 36,
     "metadata": {},
     "output_type": "execute_result"
    }
   ],
   "execution_count": 36
  },
  {
   "metadata": {
    "ExecuteTime": {
     "end_time": "2024-11-11T10:56:00.742837Z",
     "start_time": "2024-11-11T10:56:00.732578Z"
    }
   },
   "cell_type": "code",
   "source": [
    "solve_vs_solve_parallel = solve_vs_solve_parallel.groupby(['instance_size', 'solver_t'])['time_in_ns'].mean()\n",
    "solve_vs_solve_parallel = solve_vs_solve_parallel.reset_index()\n",
    "bbs_data = solve_vs_solve_parallel[solve_vs_solve_parallel['solver_t'] == 'bb']\n",
    "bbp_data = solve_vs_solve_parallel[solve_vs_solve_parallel['solver_t'] == 'bb_parallel']\n",
    "\n",
    "bbs_data"
   ],
   "id": "bab11cfc375d43a4",
   "outputs": [
    {
     "data": {
      "text/plain": [
       "    instance_size solver_t    time_in_ns\n",
       "0               3       bb  4.811660e+04\n",
       "4               4       bb  1.121771e+05\n",
       "8               5       bb  3.040853e+05\n",
       "12              6       bb  8.228791e+05\n",
       "16              7       bb  2.276908e+06\n",
       "20              8       bb  6.101529e+06\n",
       "24              9       bb  3.229161e+07\n",
       "28             10       bb  8.320064e+07\n",
       "30             11       bb  2.058529e+08\n",
       "32             12       bb  4.027979e+08\n",
       "34             13       bb  1.116826e+09"
      ],
      "text/html": [
       "<div>\n",
       "<style scoped>\n",
       "    .dataframe tbody tr th:only-of-type {\n",
       "        vertical-align: middle;\n",
       "    }\n",
       "\n",
       "    .dataframe tbody tr th {\n",
       "        vertical-align: top;\n",
       "    }\n",
       "\n",
       "    .dataframe thead th {\n",
       "        text-align: right;\n",
       "    }\n",
       "</style>\n",
       "<table border=\"1\" class=\"dataframe\">\n",
       "  <thead>\n",
       "    <tr style=\"text-align: right;\">\n",
       "      <th></th>\n",
       "      <th>instance_size</th>\n",
       "      <th>solver_t</th>\n",
       "      <th>time_in_ns</th>\n",
       "    </tr>\n",
       "  </thead>\n",
       "  <tbody>\n",
       "    <tr>\n",
       "      <th>0</th>\n",
       "      <td>3</td>\n",
       "      <td>bb</td>\n",
       "      <td>4.811660e+04</td>\n",
       "    </tr>\n",
       "    <tr>\n",
       "      <th>4</th>\n",
       "      <td>4</td>\n",
       "      <td>bb</td>\n",
       "      <td>1.121771e+05</td>\n",
       "    </tr>\n",
       "    <tr>\n",
       "      <th>8</th>\n",
       "      <td>5</td>\n",
       "      <td>bb</td>\n",
       "      <td>3.040853e+05</td>\n",
       "    </tr>\n",
       "    <tr>\n",
       "      <th>12</th>\n",
       "      <td>6</td>\n",
       "      <td>bb</td>\n",
       "      <td>8.228791e+05</td>\n",
       "    </tr>\n",
       "    <tr>\n",
       "      <th>16</th>\n",
       "      <td>7</td>\n",
       "      <td>bb</td>\n",
       "      <td>2.276908e+06</td>\n",
       "    </tr>\n",
       "    <tr>\n",
       "      <th>20</th>\n",
       "      <td>8</td>\n",
       "      <td>bb</td>\n",
       "      <td>6.101529e+06</td>\n",
       "    </tr>\n",
       "    <tr>\n",
       "      <th>24</th>\n",
       "      <td>9</td>\n",
       "      <td>bb</td>\n",
       "      <td>3.229161e+07</td>\n",
       "    </tr>\n",
       "    <tr>\n",
       "      <th>28</th>\n",
       "      <td>10</td>\n",
       "      <td>bb</td>\n",
       "      <td>8.320064e+07</td>\n",
       "    </tr>\n",
       "    <tr>\n",
       "      <th>30</th>\n",
       "      <td>11</td>\n",
       "      <td>bb</td>\n",
       "      <td>2.058529e+08</td>\n",
       "    </tr>\n",
       "    <tr>\n",
       "      <th>32</th>\n",
       "      <td>12</td>\n",
       "      <td>bb</td>\n",
       "      <td>4.027979e+08</td>\n",
       "    </tr>\n",
       "    <tr>\n",
       "      <th>34</th>\n",
       "      <td>13</td>\n",
       "      <td>bb</td>\n",
       "      <td>1.116826e+09</td>\n",
       "    </tr>\n",
       "  </tbody>\n",
       "</table>\n",
       "</div>"
      ]
     },
     "execution_count": 37,
     "metadata": {},
     "output_type": "execute_result"
    }
   ],
   "execution_count": 37
  },
  {
   "metadata": {
    "ExecuteTime": {
     "end_time": "2024-11-11T10:56:01.318683Z",
     "start_time": "2024-11-11T10:56:01.312005Z"
    }
   },
   "cell_type": "code",
   "source": "bbp_data",
   "id": "3b0a3b0aca6e0bda",
   "outputs": [
    {
     "data": {
      "text/plain": [
       "    instance_size     solver_t    time_in_ns\n",
       "1               3  bb_parallel  2.339794e+05\n",
       "5               4  bb_parallel  2.709562e+05\n",
       "9               5  bb_parallel  3.756541e+05\n",
       "13              6  bb_parallel  5.402563e+05\n",
       "17              7  bb_parallel  9.343395e+05\n",
       "21              8  bb_parallel  1.980017e+06\n",
       "25              9  bb_parallel  6.916742e+06\n",
       "29             10  bb_parallel  1.669502e+07\n",
       "31             11  bb_parallel  3.165919e+07\n",
       "33             12  bb_parallel  8.161370e+07\n",
       "35             13  bb_parallel  2.164133e+08"
      ],
      "text/html": [
       "<div>\n",
       "<style scoped>\n",
       "    .dataframe tbody tr th:only-of-type {\n",
       "        vertical-align: middle;\n",
       "    }\n",
       "\n",
       "    .dataframe tbody tr th {\n",
       "        vertical-align: top;\n",
       "    }\n",
       "\n",
       "    .dataframe thead th {\n",
       "        text-align: right;\n",
       "    }\n",
       "</style>\n",
       "<table border=\"1\" class=\"dataframe\">\n",
       "  <thead>\n",
       "    <tr style=\"text-align: right;\">\n",
       "      <th></th>\n",
       "      <th>instance_size</th>\n",
       "      <th>solver_t</th>\n",
       "      <th>time_in_ns</th>\n",
       "    </tr>\n",
       "  </thead>\n",
       "  <tbody>\n",
       "    <tr>\n",
       "      <th>1</th>\n",
       "      <td>3</td>\n",
       "      <td>bb_parallel</td>\n",
       "      <td>2.339794e+05</td>\n",
       "    </tr>\n",
       "    <tr>\n",
       "      <th>5</th>\n",
       "      <td>4</td>\n",
       "      <td>bb_parallel</td>\n",
       "      <td>2.709562e+05</td>\n",
       "    </tr>\n",
       "    <tr>\n",
       "      <th>9</th>\n",
       "      <td>5</td>\n",
       "      <td>bb_parallel</td>\n",
       "      <td>3.756541e+05</td>\n",
       "    </tr>\n",
       "    <tr>\n",
       "      <th>13</th>\n",
       "      <td>6</td>\n",
       "      <td>bb_parallel</td>\n",
       "      <td>5.402563e+05</td>\n",
       "    </tr>\n",
       "    <tr>\n",
       "      <th>17</th>\n",
       "      <td>7</td>\n",
       "      <td>bb_parallel</td>\n",
       "      <td>9.343395e+05</td>\n",
       "    </tr>\n",
       "    <tr>\n",
       "      <th>21</th>\n",
       "      <td>8</td>\n",
       "      <td>bb_parallel</td>\n",
       "      <td>1.980017e+06</td>\n",
       "    </tr>\n",
       "    <tr>\n",
       "      <th>25</th>\n",
       "      <td>9</td>\n",
       "      <td>bb_parallel</td>\n",
       "      <td>6.916742e+06</td>\n",
       "    </tr>\n",
       "    <tr>\n",
       "      <th>29</th>\n",
       "      <td>10</td>\n",
       "      <td>bb_parallel</td>\n",
       "      <td>1.669502e+07</td>\n",
       "    </tr>\n",
       "    <tr>\n",
       "      <th>31</th>\n",
       "      <td>11</td>\n",
       "      <td>bb_parallel</td>\n",
       "      <td>3.165919e+07</td>\n",
       "    </tr>\n",
       "    <tr>\n",
       "      <th>33</th>\n",
       "      <td>12</td>\n",
       "      <td>bb_parallel</td>\n",
       "      <td>8.161370e+07</td>\n",
       "    </tr>\n",
       "    <tr>\n",
       "      <th>35</th>\n",
       "      <td>13</td>\n",
       "      <td>bb_parallel</td>\n",
       "      <td>2.164133e+08</td>\n",
       "    </tr>\n",
       "  </tbody>\n",
       "</table>\n",
       "</div>"
      ]
     },
     "execution_count": 38,
     "metadata": {},
     "output_type": "execute_result"
    }
   ],
   "execution_count": 38
  },
  {
   "metadata": {
    "ExecuteTime": {
     "end_time": "2024-11-11T10:56:02.007834Z",
     "start_time": "2024-11-11T10:56:01.896885Z"
    }
   },
   "cell_type": "code",
   "source": [
    "plt.figure(figsize=(10, 6))\n",
    "plt.title(\"BB vs. BB Parallel(10 threads)\")\n",
    "plt.plot(bbs_data['instance_size'], bbs_data['time_in_ns'], label='Branch and Bound', marker='o', color='blue')\n",
    "plt.plot(bbp_data['instance_size'], bbp_data['time_in_ns'], label='Branch and Bound Parallel', marker='o', color='orange')\n",
    "plt.legend()\n",
    "plt.show()"
   ],
   "id": "8c198e9aedc987ae",
   "outputs": [
    {
     "data": {
      "text/plain": [
       "<Figure size 1000x600 with 1 Axes>"
      ],
      "image/png": "[encoded data removed]"
     },
     "metadata": {},
     "output_type": "display_data"
    }
   ],
   "execution_count": 39
  },
  {
   "metadata": {
    "ExecuteTime": {
     "end_time": "2024-11-11T10:53:45.966126Z",
     "start_time": "2024-11-11T10:53:45.964437Z"
    }
   },
   "cell_type": "code",
   "source": "",
   "id": "c6590237fd6394f6",
   "outputs": [],
   "execution_count": 26
  }
 ],
 "metadata": {
  "kernelspec": {
   "display_name": "Python 3",
   "language": "python",
   "name": "python3"
  },
  "language_info": {
   "codemirror_mode": {
    "name": "ipython",
    "version": 2
   },
   "file_extension": ".py",
   "mimetype": "text/x-python",
   "name": "python",
   "nbconvert_exporter": "python",
   "pygments_lexer": "ipython2",
   "version": "2.7.6"
  }
 },
 "nbformat": 4,
 "nbformat_minor": 5
}
