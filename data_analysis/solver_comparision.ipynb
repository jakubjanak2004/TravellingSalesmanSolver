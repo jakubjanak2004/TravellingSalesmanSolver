{
 "cells": [
  {
   "cell_type": "code",
   "id": "initial_id",
   "metadata": {
    "collapsed": true,
    "ExecuteTime": {
     "end_time": "2025-01-06T19:13:39.271140Z",
     "start_time": "2025-01-06T19:13:25.965907Z"
    }
   },
   "source": [
    "import pandas as pd\n",
    "import matplotlib.pyplot as plt"
   ],
   "outputs": [],
   "execution_count": 1
  },
  {
   "metadata": {
    "ExecuteTime": {
     "end_time": "2025-01-06T19:13:39.275025Z",
     "start_time": "2025-01-06T19:13:39.272568Z"
    }
   },
   "cell_type": "code",
   "source": "data_path = '../files/data/'",
   "id": "e64fd7020ff70666",
   "outputs": [],
   "execution_count": 2
  },
  {
   "metadata": {
    "ExecuteTime": {
     "end_time": "2025-01-06T19:13:39.293418Z",
     "start_time": "2025-01-06T19:13:39.276313Z"
    }
   },
   "cell_type": "code",
   "source": [
    "solve_vs_brute_force = pd.read_csv(data_path + 'solve_vs_brute_force.csv', header=None)\n",
    "solve_vs_solve_parallel = pd.read_csv(data_path + 'solve_vs_solve_parallel.csv', header=None)\n",
    "threads_comp = pd.read_csv(data_path + 'comparing_different_num_of_threads.csv', header=None)\n",
    "approx_exact_comp = pd.read_csv(data_path + 'approximation_vs_exact_solution.csv', header=None)\n",
    "\n",
    "solve_vs_brute_force.columns = ['instance_size', 'solver_t', 'time_in_ns']\n",
    "solve_vs_solve_parallel.columns = ['instance_size', 'solver_t', 'time_in_ns']\n",
    "threads_comp.columns = ['num_of_threads', 'time_in_ns']\n",
    "approx_exact_comp.columns = ['instance_size', 'approx_result', 'exact_result']\n",
    "\n",
    "solve_vs_brute_force['solver_t'] = solve_vs_brute_force['solver_t'].str.strip()\n",
    "solve_vs_solve_parallel['solver_t'] = solve_vs_solve_parallel['solver_t'].str.strip()"
   ],
   "id": "67653af87648314c",
   "outputs": [],
   "execution_count": 3
  },
  {
   "metadata": {},
   "cell_type": "markdown",
   "source": "# Solve vs Brute Force",
   "id": "f0c74f75ef6cf2aa"
  },
  {
   "metadata": {
    "ExecuteTime": {
     "end_time": "2025-01-06T19:13:39.306372Z",
     "start_time": "2025-01-06T19:13:39.294879Z"
    }
   },
   "cell_type": "code",
   "source": "solve_vs_brute_force.info()",
   "id": "fce794262a7e658a",
   "outputs": [
    {
     "name": "stdout",
     "output_type": "stream",
     "text": [
      "<class 'pandas.core.frame.DataFrame'>\n",
      "RangeIndex: 280 entries, 0 to 279\n",
      "Data columns (total 3 columns):\n",
      " #   Column         Non-Null Count  Dtype \n",
      "---  ------         --------------  ----- \n",
      " 0   instance_size  280 non-null    int64 \n",
      " 1   solver_t       280 non-null    object\n",
      " 2   time_in_ns     280 non-null    int64 \n",
      "dtypes: int64(2), object(1)\n",
      "memory usage: 6.7+ KB\n"
     ]
    }
   ],
   "execution_count": 4
  },
  {
   "metadata": {
    "ExecuteTime": {
     "end_time": "2025-01-06T19:13:39.330401Z",
     "start_time": "2025-01-06T19:13:39.316761Z"
    }
   },
   "cell_type": "code",
   "source": "solve_vs_brute_force.head()",
   "id": "664c89d40ec383fd",
   "outputs": [
    {
     "data": {
      "text/plain": [
       "   instance_size      solver_t  time_in_ns\n",
       "0              3  branch_bound       77084\n",
       "1              3   brute_force       14625\n",
       "2              3  branch_bound       57167\n",
       "3              3   brute_force       15750\n",
       "4              3  branch_bound       47833"
      ],
      "text/html": [
       "<div>\n",
       "<style scoped>\n",
       "    .dataframe tbody tr th:only-of-type {\n",
       "        vertical-align: middle;\n",
       "    }\n",
       "\n",
       "    .dataframe tbody tr th {\n",
       "        vertical-align: top;\n",
       "    }\n",
       "\n",
       "    .dataframe thead th {\n",
       "        text-align: right;\n",
       "    }\n",
       "</style>\n",
       "<table border=\"1\" class=\"dataframe\">\n",
       "  <thead>\n",
       "    <tr style=\"text-align: right;\">\n",
       "      <th></th>\n",
       "      <th>instance_size</th>\n",
       "      <th>solver_t</th>\n",
       "      <th>time_in_ns</th>\n",
       "    </tr>\n",
       "  </thead>\n",
       "  <tbody>\n",
       "    <tr>\n",
       "      <th>0</th>\n",
       "      <td>3</td>\n",
       "      <td>branch_bound</td>\n",
       "      <td>77084</td>\n",
       "    </tr>\n",
       "    <tr>\n",
       "      <th>1</th>\n",
       "      <td>3</td>\n",
       "      <td>brute_force</td>\n",
       "      <td>14625</td>\n",
       "    </tr>\n",
       "    <tr>\n",
       "      <th>2</th>\n",
       "      <td>3</td>\n",
       "      <td>branch_bound</td>\n",
       "      <td>57167</td>\n",
       "    </tr>\n",
       "    <tr>\n",
       "      <th>3</th>\n",
       "      <td>3</td>\n",
       "      <td>brute_force</td>\n",
       "      <td>15750</td>\n",
       "    </tr>\n",
       "    <tr>\n",
       "      <th>4</th>\n",
       "      <td>3</td>\n",
       "      <td>branch_bound</td>\n",
       "      <td>47833</td>\n",
       "    </tr>\n",
       "  </tbody>\n",
       "</table>\n",
       "</div>"
      ]
     },
     "execution_count": 5,
     "metadata": {},
     "output_type": "execute_result"
    }
   ],
   "execution_count": 5
  },
  {
   "metadata": {
    "ExecuteTime": {
     "end_time": "2025-01-06T19:13:39.341838Z",
     "start_time": "2025-01-06T19:13:39.332016Z"
    }
   },
   "cell_type": "code",
   "source": [
    "solve_vs_brute_grouped = solve_vs_brute_force.groupby(['instance_size', 'solver_t'])['time_in_ns'].mean()\n",
    "solve_vs_brute_grouped = solve_vs_brute_grouped.reset_index()\n",
    "bb_data = solve_vs_brute_grouped[solve_vs_brute_grouped['solver_t'] == 'branch_bound']\n",
    "bf_data = solve_vs_brute_grouped[solve_vs_brute_grouped['solver_t'] == 'brute_force']\n",
    "\n",
    "bb_data"
   ],
   "id": "46860e941ef47048",
   "outputs": [
    {
     "data": {
      "text/plain": [
       "    instance_size      solver_t   time_in_ns\n",
       "0               3  branch_bound     54129.25\n",
       "2               4  branch_bound    137331.25\n",
       "4               5  branch_bound    363858.35\n",
       "6               6  branch_bound   1074068.85\n",
       "8               7  branch_bound   2698827.10\n",
       "10              8  branch_bound   5878477.25\n",
       "12              9  branch_bound  19827516.80"
      ],
      "text/html": [
       "<div>\n",
       "<style scoped>\n",
       "    .dataframe tbody tr th:only-of-type {\n",
       "        vertical-align: middle;\n",
       "    }\n",
       "\n",
       "    .dataframe tbody tr th {\n",
       "        vertical-align: top;\n",
       "    }\n",
       "\n",
       "    .dataframe thead th {\n",
       "        text-align: right;\n",
       "    }\n",
       "</style>\n",
       "<table border=\"1\" class=\"dataframe\">\n",
       "  <thead>\n",
       "    <tr style=\"text-align: right;\">\n",
       "      <th></th>\n",
       "      <th>instance_size</th>\n",
       "      <th>solver_t</th>\n",
       "      <th>time_in_ns</th>\n",
       "    </tr>\n",
       "  </thead>\n",
       "  <tbody>\n",
       "    <tr>\n",
       "      <th>0</th>\n",
       "      <td>3</td>\n",
       "      <td>branch_bound</td>\n",
       "      <td>54129.25</td>\n",
       "    </tr>\n",
       "    <tr>\n",
       "      <th>2</th>\n",
       "      <td>4</td>\n",
       "      <td>branch_bound</td>\n",
       "      <td>137331.25</td>\n",
       "    </tr>\n",
       "    <tr>\n",
       "      <th>4</th>\n",
       "      <td>5</td>\n",
       "      <td>branch_bound</td>\n",
       "      <td>363858.35</td>\n",
       "    </tr>\n",
       "    <tr>\n",
       "      <th>6</th>\n",
       "      <td>6</td>\n",
       "      <td>branch_bound</td>\n",
       "      <td>1074068.85</td>\n",
       "    </tr>\n",
       "    <tr>\n",
       "      <th>8</th>\n",
       "      <td>7</td>\n",
       "      <td>branch_bound</td>\n",
       "      <td>2698827.10</td>\n",
       "    </tr>\n",
       "    <tr>\n",
       "      <th>10</th>\n",
       "      <td>8</td>\n",
       "      <td>branch_bound</td>\n",
       "      <td>5878477.25</td>\n",
       "    </tr>\n",
       "    <tr>\n",
       "      <th>12</th>\n",
       "      <td>9</td>\n",
       "      <td>branch_bound</td>\n",
       "      <td>19827516.80</td>\n",
       "    </tr>\n",
       "  </tbody>\n",
       "</table>\n",
       "</div>"
      ]
     },
     "execution_count": 6,
     "metadata": {},
     "output_type": "execute_result"
    }
   ],
   "execution_count": 6
  },
  {
   "metadata": {
    "ExecuteTime": {
     "end_time": "2025-01-06T19:13:39.351133Z",
     "start_time": "2025-01-06T19:13:39.343587Z"
    }
   },
   "cell_type": "code",
   "source": "bf_data",
   "id": "f131570f036538d3",
   "outputs": [
    {
     "data": {
      "text/plain": [
       "    instance_size     solver_t    time_in_ns\n",
       "1               3  brute_force  1.454580e+04\n",
       "3               4  brute_force  4.912705e+04\n",
       "5               5  brute_force  2.237541e+05\n",
       "7               6  brute_force  1.175973e+06\n",
       "9               7  brute_force  7.922856e+06\n",
       "11              8  brute_force  6.275827e+07\n",
       "13              9  brute_force  6.101613e+08"
      ],
      "text/html": [
       "<div>\n",
       "<style scoped>\n",
       "    .dataframe tbody tr th:only-of-type {\n",
       "        vertical-align: middle;\n",
       "    }\n",
       "\n",
       "    .dataframe tbody tr th {\n",
       "        vertical-align: top;\n",
       "    }\n",
       "\n",
       "    .dataframe thead th {\n",
       "        text-align: right;\n",
       "    }\n",
       "</style>\n",
       "<table border=\"1\" class=\"dataframe\">\n",
       "  <thead>\n",
       "    <tr style=\"text-align: right;\">\n",
       "      <th></th>\n",
       "      <th>instance_size</th>\n",
       "      <th>solver_t</th>\n",
       "      <th>time_in_ns</th>\n",
       "    </tr>\n",
       "  </thead>\n",
       "  <tbody>\n",
       "    <tr>\n",
       "      <th>1</th>\n",
       "      <td>3</td>\n",
       "      <td>brute_force</td>\n",
       "      <td>1.454580e+04</td>\n",
       "    </tr>\n",
       "    <tr>\n",
       "      <th>3</th>\n",
       "      <td>4</td>\n",
       "      <td>brute_force</td>\n",
       "      <td>4.912705e+04</td>\n",
       "    </tr>\n",
       "    <tr>\n",
       "      <th>5</th>\n",
       "      <td>5</td>\n",
       "      <td>brute_force</td>\n",
       "      <td>2.237541e+05</td>\n",
       "    </tr>\n",
       "    <tr>\n",
       "      <th>7</th>\n",
       "      <td>6</td>\n",
       "      <td>brute_force</td>\n",
       "      <td>1.175973e+06</td>\n",
       "    </tr>\n",
       "    <tr>\n",
       "      <th>9</th>\n",
       "      <td>7</td>\n",
       "      <td>brute_force</td>\n",
       "      <td>7.922856e+06</td>\n",
       "    </tr>\n",
       "    <tr>\n",
       "      <th>11</th>\n",
       "      <td>8</td>\n",
       "      <td>brute_force</td>\n",
       "      <td>6.275827e+07</td>\n",
       "    </tr>\n",
       "    <tr>\n",
       "      <th>13</th>\n",
       "      <td>9</td>\n",
       "      <td>brute_force</td>\n",
       "      <td>6.101613e+08</td>\n",
       "    </tr>\n",
       "  </tbody>\n",
       "</table>\n",
       "</div>"
      ]
     },
     "execution_count": 7,
     "metadata": {},
     "output_type": "execute_result"
    }
   ],
   "execution_count": 7
  },
  {
   "metadata": {
    "ExecuteTime": {
     "end_time": "2025-01-06T19:13:40.101369Z",
     "start_time": "2025-01-06T19:13:39.353218Z"
    }
   },
   "cell_type": "code",
   "source": [
    "plt.figure(figsize=(10, 6))\n",
    "plt.title(\"Brute Force vs. Branch-Bound\")\n",
    "plt.plot(bf_data['instance_size'], bf_data['time_in_ns'], label='Brute Force', marker='o', color='r')\n",
    "plt.plot(bb_data['instance_size'], bb_data['time_in_ns'], label='Branch Bound', marker='o', color='b')\n",
    "plt.xlabel(\"Instance Size\")\n",
    "plt.ylabel(\"Time (ns)\")\n",
    "plt.legend()\n",
    "plt.savefig(\"brute_force_vs_branch_bound.png\", format=\"png\", dpi=300)\n",
    "plt.show()"
   ],
   "id": "6e2d3e2bc7b2fe4a",
   "outputs": [
    {
     "data": {
      "text/plain": [
       "<Figure size 1000x600 with 1 Axes>"
      ],
      "image/png": "[encoded data removed]"
     },
     "metadata": {},
     "output_type": "display_data"
    }
   ],
   "execution_count": 8
  },
  {
   "metadata": {},
   "cell_type": "markdown",
   "source": "# Solve vs Solve Parallel",
   "id": "ad4c1f3500b6dc0f"
  },
  {
   "metadata": {
    "ExecuteTime": {
     "end_time": "2025-01-06T19:13:40.114024Z",
     "start_time": "2025-01-06T19:13:40.104831Z"
    }
   },
   "cell_type": "code",
   "source": "solve_vs_solve_parallel.info()",
   "id": "fb2ca647c4ebbe4c",
   "outputs": [
    {
     "name": "stdout",
     "output_type": "stream",
     "text": [
      "<class 'pandas.core.frame.DataFrame'>\n",
      "RangeIndex: 600 entries, 0 to 599\n",
      "Data columns (total 3 columns):\n",
      " #   Column         Non-Null Count  Dtype \n",
      "---  ------         --------------  ----- \n",
      " 0   instance_size  600 non-null    int64 \n",
      " 1   solver_t       600 non-null    object\n",
      " 2   time_in_ns     600 non-null    int64 \n",
      "dtypes: int64(2), object(1)\n",
      "memory usage: 14.2+ KB\n"
     ]
    }
   ],
   "execution_count": 9
  },
  {
   "metadata": {
    "ExecuteTime": {
     "end_time": "2025-01-06T19:13:40.125647Z",
     "start_time": "2025-01-06T19:13:40.118068Z"
    }
   },
   "cell_type": "code",
   "source": "solve_vs_solve_parallel.head()",
   "id": "374d4b3092523e93",
   "outputs": [
    {
     "data": {
      "text/plain": [
       "   instance_size     solver_t  time_in_ns\n",
       "0              3           bb       57458\n",
       "1              3  bb_parallel      296042\n",
       "2              3           bb       42833\n",
       "3              3  bb_parallel      237083\n",
       "4              3           bb       55333"
      ],
      "text/html": [
       "<div>\n",
       "<style scoped>\n",
       "    .dataframe tbody tr th:only-of-type {\n",
       "        vertical-align: middle;\n",
       "    }\n",
       "\n",
       "    .dataframe tbody tr th {\n",
       "        vertical-align: top;\n",
       "    }\n",
       "\n",
       "    .dataframe thead th {\n",
       "        text-align: right;\n",
       "    }\n",
       "</style>\n",
       "<table border=\"1\" class=\"dataframe\">\n",
       "  <thead>\n",
       "    <tr style=\"text-align: right;\">\n",
       "      <th></th>\n",
       "      <th>instance_size</th>\n",
       "      <th>solver_t</th>\n",
       "      <th>time_in_ns</th>\n",
       "    </tr>\n",
       "  </thead>\n",
       "  <tbody>\n",
       "    <tr>\n",
       "      <th>0</th>\n",
       "      <td>3</td>\n",
       "      <td>bb</td>\n",
       "      <td>57458</td>\n",
       "    </tr>\n",
       "    <tr>\n",
       "      <th>1</th>\n",
       "      <td>3</td>\n",
       "      <td>bb_parallel</td>\n",
       "      <td>296042</td>\n",
       "    </tr>\n",
       "    <tr>\n",
       "      <th>2</th>\n",
       "      <td>3</td>\n",
       "      <td>bb</td>\n",
       "      <td>42833</td>\n",
       "    </tr>\n",
       "    <tr>\n",
       "      <th>3</th>\n",
       "      <td>3</td>\n",
       "      <td>bb_parallel</td>\n",
       "      <td>237083</td>\n",
       "    </tr>\n",
       "    <tr>\n",
       "      <th>4</th>\n",
       "      <td>3</td>\n",
       "      <td>bb</td>\n",
       "      <td>55333</td>\n",
       "    </tr>\n",
       "  </tbody>\n",
       "</table>\n",
       "</div>"
      ]
     },
     "execution_count": 10,
     "metadata": {},
     "output_type": "execute_result"
    }
   ],
   "execution_count": 10
  },
  {
   "metadata": {
    "ExecuteTime": {
     "end_time": "2025-01-06T19:13:40.139871Z",
     "start_time": "2025-01-06T19:13:40.128199Z"
    }
   },
   "cell_type": "code",
   "source": [
    "solve_vs_solve_parallel = solve_vs_solve_parallel.groupby(['instance_size', 'solver_t'])['time_in_ns'].mean()\n",
    "solve_vs_solve_parallel = solve_vs_solve_parallel.reset_index()\n",
    "bbs_data = solve_vs_solve_parallel[solve_vs_solve_parallel['solver_t'] == 'bb']\n",
    "bbp_data = solve_vs_solve_parallel[solve_vs_solve_parallel['solver_t'] == 'bb_parallel']\n",
    "\n",
    "bbs_data"
   ],
   "id": "bab11cfc375d43a4",
   "outputs": [
    {
     "data": {
      "text/plain": [
       "    instance_size solver_t    time_in_ns\n",
       "0               3       bb  4.666403e+04\n",
       "2               4       bb  1.148097e+05\n",
       "4               5       bb  3.109944e+05\n",
       "6               6       bb  9.432013e+05\n",
       "8               7       bb  2.400596e+06\n",
       "10              8       bb  7.407275e+06\n",
       "12              9       bb  2.828825e+07\n",
       "14             10       bb  6.432903e+07\n",
       "16             11       bb  2.117145e+08\n",
       "18             12       bb  4.262342e+08"
      ],
      "text/html": [
       "<div>\n",
       "<style scoped>\n",
       "    .dataframe tbody tr th:only-of-type {\n",
       "        vertical-align: middle;\n",
       "    }\n",
       "\n",
       "    .dataframe tbody tr th {\n",
       "        vertical-align: top;\n",
       "    }\n",
       "\n",
       "    .dataframe thead th {\n",
       "        text-align: right;\n",
       "    }\n",
       "</style>\n",
       "<table border=\"1\" class=\"dataframe\">\n",
       "  <thead>\n",
       "    <tr style=\"text-align: right;\">\n",
       "      <th></th>\n",
       "      <th>instance_size</th>\n",
       "      <th>solver_t</th>\n",
       "      <th>time_in_ns</th>\n",
       "    </tr>\n",
       "  </thead>\n",
       "  <tbody>\n",
       "    <tr>\n",
       "      <th>0</th>\n",
       "      <td>3</td>\n",
       "      <td>bb</td>\n",
       "      <td>4.666403e+04</td>\n",
       "    </tr>\n",
       "    <tr>\n",
       "      <th>2</th>\n",
       "      <td>4</td>\n",
       "      <td>bb</td>\n",
       "      <td>1.148097e+05</td>\n",
       "    </tr>\n",
       "    <tr>\n",
       "      <th>4</th>\n",
       "      <td>5</td>\n",
       "      <td>bb</td>\n",
       "      <td>3.109944e+05</td>\n",
       "    </tr>\n",
       "    <tr>\n",
       "      <th>6</th>\n",
       "      <td>6</td>\n",
       "      <td>bb</td>\n",
       "      <td>9.432013e+05</td>\n",
       "    </tr>\n",
       "    <tr>\n",
       "      <th>8</th>\n",
       "      <td>7</td>\n",
       "      <td>bb</td>\n",
       "      <td>2.400596e+06</td>\n",
       "    </tr>\n",
       "    <tr>\n",
       "      <th>10</th>\n",
       "      <td>8</td>\n",
       "      <td>bb</td>\n",
       "      <td>7.407275e+06</td>\n",
       "    </tr>\n",
       "    <tr>\n",
       "      <th>12</th>\n",
       "      <td>9</td>\n",
       "      <td>bb</td>\n",
       "      <td>2.828825e+07</td>\n",
       "    </tr>\n",
       "    <tr>\n",
       "      <th>14</th>\n",
       "      <td>10</td>\n",
       "      <td>bb</td>\n",
       "      <td>6.432903e+07</td>\n",
       "    </tr>\n",
       "    <tr>\n",
       "      <th>16</th>\n",
       "      <td>11</td>\n",
       "      <td>bb</td>\n",
       "      <td>2.117145e+08</td>\n",
       "    </tr>\n",
       "    <tr>\n",
       "      <th>18</th>\n",
       "      <td>12</td>\n",
       "      <td>bb</td>\n",
       "      <td>4.262342e+08</td>\n",
       "    </tr>\n",
       "  </tbody>\n",
       "</table>\n",
       "</div>"
      ]
     },
     "execution_count": 11,
     "metadata": {},
     "output_type": "execute_result"
    }
   ],
   "execution_count": 11
  },
  {
   "metadata": {
    "ExecuteTime": {
     "end_time": "2025-01-06T19:13:40.148839Z",
     "start_time": "2025-01-06T19:13:40.142196Z"
    }
   },
   "cell_type": "code",
   "source": "bbp_data",
   "id": "3b0a3b0aca6e0bda",
   "outputs": [
    {
     "data": {
      "text/plain": [
       "    instance_size     solver_t    time_in_ns\n",
       "1               3  bb_parallel  2.252722e+05\n",
       "3               4  bb_parallel  2.617528e+05\n",
       "5               5  bb_parallel  3.651596e+05\n",
       "7               6  bb_parallel  5.615180e+05\n",
       "9               7  bb_parallel  9.424390e+05\n",
       "11              8  bb_parallel  2.203938e+06\n",
       "13              9  bb_parallel  6.647050e+06\n",
       "15             10  bb_parallel  1.400933e+07\n",
       "17             11  bb_parallel  4.223504e+07\n",
       "19             12  bb_parallel  9.428496e+07"
      ],
      "text/html": [
       "<div>\n",
       "<style scoped>\n",
       "    .dataframe tbody tr th:only-of-type {\n",
       "        vertical-align: middle;\n",
       "    }\n",
       "\n",
       "    .dataframe tbody tr th {\n",
       "        vertical-align: top;\n",
       "    }\n",
       "\n",
       "    .dataframe thead th {\n",
       "        text-align: right;\n",
       "    }\n",
       "</style>\n",
       "<table border=\"1\" class=\"dataframe\">\n",
       "  <thead>\n",
       "    <tr style=\"text-align: right;\">\n",
       "      <th></th>\n",
       "      <th>instance_size</th>\n",
       "      <th>solver_t</th>\n",
       "      <th>time_in_ns</th>\n",
       "    </tr>\n",
       "  </thead>\n",
       "  <tbody>\n",
       "    <tr>\n",
       "      <th>1</th>\n",
       "      <td>3</td>\n",
       "      <td>bb_parallel</td>\n",
       "      <td>2.252722e+05</td>\n",
       "    </tr>\n",
       "    <tr>\n",
       "      <th>3</th>\n",
       "      <td>4</td>\n",
       "      <td>bb_parallel</td>\n",
       "      <td>2.617528e+05</td>\n",
       "    </tr>\n",
       "    <tr>\n",
       "      <th>5</th>\n",
       "      <td>5</td>\n",
       "      <td>bb_parallel</td>\n",
       "      <td>3.651596e+05</td>\n",
       "    </tr>\n",
       "    <tr>\n",
       "      <th>7</th>\n",
       "      <td>6</td>\n",
       "      <td>bb_parallel</td>\n",
       "      <td>5.615180e+05</td>\n",
       "    </tr>\n",
       "    <tr>\n",
       "      <th>9</th>\n",
       "      <td>7</td>\n",
       "      <td>bb_parallel</td>\n",
       "      <td>9.424390e+05</td>\n",
       "    </tr>\n",
       "    <tr>\n",
       "      <th>11</th>\n",
       "      <td>8</td>\n",
       "      <td>bb_parallel</td>\n",
       "      <td>2.203938e+06</td>\n",
       "    </tr>\n",
       "    <tr>\n",
       "      <th>13</th>\n",
       "      <td>9</td>\n",
       "      <td>bb_parallel</td>\n",
       "      <td>6.647050e+06</td>\n",
       "    </tr>\n",
       "    <tr>\n",
       "      <th>15</th>\n",
       "      <td>10</td>\n",
       "      <td>bb_parallel</td>\n",
       "      <td>1.400933e+07</td>\n",
       "    </tr>\n",
       "    <tr>\n",
       "      <th>17</th>\n",
       "      <td>11</td>\n",
       "      <td>bb_parallel</td>\n",
       "      <td>4.223504e+07</td>\n",
       "    </tr>\n",
       "    <tr>\n",
       "      <th>19</th>\n",
       "      <td>12</td>\n",
       "      <td>bb_parallel</td>\n",
       "      <td>9.428496e+07</td>\n",
       "    </tr>\n",
       "  </tbody>\n",
       "</table>\n",
       "</div>"
      ]
     },
     "execution_count": 12,
     "metadata": {},
     "output_type": "execute_result"
    }
   ],
   "execution_count": 12
  },
  {
   "metadata": {
    "ExecuteTime": {
     "end_time": "2025-01-06T19:13:40.487956Z",
     "start_time": "2025-01-06T19:13:40.150577Z"
    }
   },
   "cell_type": "code",
   "source": [
    "plt.figure(figsize=(10, 6))\n",
    "plt.title(\"BB vs. BB Parallel(10 threads)\")\n",
    "plt.plot(bbs_data['instance_size'], bbs_data['time_in_ns'], label='Branch and Bound', marker='o', color='blue')\n",
    "plt.plot(bbp_data['instance_size'], bbp_data['time_in_ns'], label='Branch and Bound Parallel', marker='o', color='orange')\n",
    "plt.xlabel(\"Instance Size\")\n",
    "plt.ylabel(\"Time (ns)\")\n",
    "plt.legend()\n",
    "plt.savefig(\"synchronized_vs_parallel_bb.png\", format=\"png\", dpi=300)\n",
    "plt.show()"
   ],
   "id": "8c198e9aedc987ae",
   "outputs": [
    {
     "data": {
      "text/plain": [
       "<Figure size 1000x600 with 1 Axes>"
      ],
      "image/png": "[encoded data removed]"
     },
     "metadata": {},
     "output_type": "display_data"
    }
   ],
   "execution_count": 13
  },
  {
   "metadata": {},
   "cell_type": "markdown",
   "source": "# Comparing Threads",
   "id": "e2143615de468122"
  },
  {
   "metadata": {
    "ExecuteTime": {
     "end_time": "2025-01-06T19:13:40.497005Z",
     "start_time": "2025-01-06T19:13:40.491277Z"
    }
   },
   "cell_type": "code",
   "source": "threads_comp.info()",
   "id": "c1bba9f7d3f5a1c7",
   "outputs": [
    {
     "name": "stdout",
     "output_type": "stream",
     "text": [
      "<class 'pandas.core.frame.DataFrame'>\n",
      "RangeIndex: 900 entries, 0 to 899\n",
      "Data columns (total 2 columns):\n",
      " #   Column          Non-Null Count  Dtype\n",
      "---  ------          --------------  -----\n",
      " 0   num_of_threads  900 non-null    int64\n",
      " 1   time_in_ns      900 non-null    int64\n",
      "dtypes: int64(2)\n",
      "memory usage: 14.2 KB\n"
     ]
    }
   ],
   "execution_count": 14
  },
  {
   "metadata": {
    "ExecuteTime": {
     "end_time": "2025-01-06T19:13:40.502785Z",
     "start_time": "2025-01-06T19:13:40.498207Z"
    }
   },
   "cell_type": "code",
   "source": "threads_comp.head()",
   "id": "e76b7adeb5c2e065",
   "outputs": [
    {
     "data": {
      "text/plain": [
       "   num_of_threads  time_in_ns\n",
       "0               2    61203125\n",
       "1               3    43691625\n",
       "2               4    33293584\n",
       "3               5    26842125\n",
       "4               6    23926500"
      ],
      "text/html": [
       "<div>\n",
       "<style scoped>\n",
       "    .dataframe tbody tr th:only-of-type {\n",
       "        vertical-align: middle;\n",
       "    }\n",
       "\n",
       "    .dataframe tbody tr th {\n",
       "        vertical-align: top;\n",
       "    }\n",
       "\n",
       "    .dataframe thead th {\n",
       "        text-align: right;\n",
       "    }\n",
       "</style>\n",
       "<table border=\"1\" class=\"dataframe\">\n",
       "  <thead>\n",
       "    <tr style=\"text-align: right;\">\n",
       "      <th></th>\n",
       "      <th>num_of_threads</th>\n",
       "      <th>time_in_ns</th>\n",
       "    </tr>\n",
       "  </thead>\n",
       "  <tbody>\n",
       "    <tr>\n",
       "      <th>0</th>\n",
       "      <td>2</td>\n",
       "      <td>61203125</td>\n",
       "    </tr>\n",
       "    <tr>\n",
       "      <th>1</th>\n",
       "      <td>3</td>\n",
       "      <td>43691625</td>\n",
       "    </tr>\n",
       "    <tr>\n",
       "      <th>2</th>\n",
       "      <td>4</td>\n",
       "      <td>33293584</td>\n",
       "    </tr>\n",
       "    <tr>\n",
       "      <th>3</th>\n",
       "      <td>5</td>\n",
       "      <td>26842125</td>\n",
       "    </tr>\n",
       "    <tr>\n",
       "      <th>4</th>\n",
       "      <td>6</td>\n",
       "      <td>23926500</td>\n",
       "    </tr>\n",
       "  </tbody>\n",
       "</table>\n",
       "</div>"
      ]
     },
     "execution_count": 15,
     "metadata": {},
     "output_type": "execute_result"
    }
   ],
   "execution_count": 15
  },
  {
   "metadata": {
    "ExecuteTime": {
     "end_time": "2025-01-06T19:13:40.510213Z",
     "start_time": "2025-01-06T19:13:40.503965Z"
    }
   },
   "cell_type": "code",
   "source": [
    "threads_comp = threads_comp.groupby(['num_of_threads'])['time_in_ns'].mean()\n",
    "threads_comp = threads_comp.reset_index()\n",
    "threads_comp.head()"
   ],
   "id": "8b97dbd7332fe0d5",
   "outputs": [
    {
     "data": {
      "text/plain": [
       "   num_of_threads   time_in_ns\n",
       "0               2  47961136.20\n",
       "1               3  33989909.98\n",
       "2               4  26852792.08\n",
       "3               5  22329354.94\n",
       "4               6  19166392.88"
      ],
      "text/html": [
       "<div>\n",
       "<style scoped>\n",
       "    .dataframe tbody tr th:only-of-type {\n",
       "        vertical-align: middle;\n",
       "    }\n",
       "\n",
       "    .dataframe tbody tr th {\n",
       "        vertical-align: top;\n",
       "    }\n",
       "\n",
       "    .dataframe thead th {\n",
       "        text-align: right;\n",
       "    }\n",
       "</style>\n",
       "<table border=\"1\" class=\"dataframe\">\n",
       "  <thead>\n",
       "    <tr style=\"text-align: right;\">\n",
       "      <th></th>\n",
       "      <th>num_of_threads</th>\n",
       "      <th>time_in_ns</th>\n",
       "    </tr>\n",
       "  </thead>\n",
       "  <tbody>\n",
       "    <tr>\n",
       "      <th>0</th>\n",
       "      <td>2</td>\n",
       "      <td>47961136.20</td>\n",
       "    </tr>\n",
       "    <tr>\n",
       "      <th>1</th>\n",
       "      <td>3</td>\n",
       "      <td>33989909.98</td>\n",
       "    </tr>\n",
       "    <tr>\n",
       "      <th>2</th>\n",
       "      <td>4</td>\n",
       "      <td>26852792.08</td>\n",
       "    </tr>\n",
       "    <tr>\n",
       "      <th>3</th>\n",
       "      <td>5</td>\n",
       "      <td>22329354.94</td>\n",
       "    </tr>\n",
       "    <tr>\n",
       "      <th>4</th>\n",
       "      <td>6</td>\n",
       "      <td>19166392.88</td>\n",
       "    </tr>\n",
       "  </tbody>\n",
       "</table>\n",
       "</div>"
      ]
     },
     "execution_count": 16,
     "metadata": {},
     "output_type": "execute_result"
    }
   ],
   "execution_count": 16
  },
  {
   "metadata": {
    "ExecuteTime": {
     "end_time": "2025-01-06T19:13:40.855648Z",
     "start_time": "2025-01-06T19:13:40.511300Z"
    }
   },
   "cell_type": "code",
   "source": [
    "plt.figure(figsize=(10, 6))\n",
    "plt.title(\"Comparing different number of threads\")\n",
    "plt.plot(threads_comp['num_of_threads'], threads_comp['time_in_ns'], label='Solving time', marker='o', color='blue')\n",
    "plt.xlabel(\"Number of threads\")\n",
    "plt.ylabel(\"Time (ns)\")\n",
    "plt.legend()\n",
    "plt.savefig(\"algorithm_speedup_across_thread_counts.png\", format=\"png\", dpi=300)\n",
    "plt.show()"
   ],
   "id": "ddeb8a8ebeb753d6",
   "outputs": [
    {
     "data": {
      "text/plain": [
       "<Figure size 1000x600 with 1 Axes>"
      ],
      "image/png": "[encoded data removed]"
     },
     "metadata": {},
     "output_type": "display_data"
    }
   ],
   "execution_count": 17
  },
  {
   "metadata": {
    "ExecuteTime": {
     "end_time": "2025-01-06T19:13:40.864084Z",
     "start_time": "2025-01-06T19:13:40.856955Z"
    }
   },
   "cell_type": "code",
   "source": "approx_exact_comp.info()",
   "id": "e8889055d28b838",
   "outputs": [
    {
     "name": "stdout",
     "output_type": "stream",
     "text": [
      "<class 'pandas.core.frame.DataFrame'>\n",
      "RangeIndex: 700 entries, 0 to 699\n",
      "Data columns (total 3 columns):\n",
      " #   Column         Non-Null Count  Dtype  \n",
      "---  ------         --------------  -----  \n",
      " 0   instance_size  700 non-null    int64  \n",
      " 1   approx_result  700 non-null    float64\n",
      " 2   exact_result   700 non-null    float64\n",
      "dtypes: float64(2), int64(1)\n",
      "memory usage: 16.5 KB\n"
     ]
    }
   ],
   "execution_count": 18
  },
  {
   "metadata": {
    "ExecuteTime": {
     "end_time": "2025-01-06T19:13:40.871021Z",
     "start_time": "2025-01-06T19:13:40.865098Z"
    }
   },
   "cell_type": "code",
   "source": "approx_exact_comp.head()",
   "id": "618733e491397057",
   "outputs": [
    {
     "data": {
      "text/plain": [
       "   instance_size  approx_result  exact_result\n",
       "0              4           15.0          15.0\n",
       "1              4            9.0           9.0\n",
       "2              4           17.0          17.0\n",
       "3              4           14.0          14.0\n",
       "4              4           16.0          16.0"
      ],
      "text/html": [
       "<div>\n",
       "<style scoped>\n",
       "    .dataframe tbody tr th:only-of-type {\n",
       "        vertical-align: middle;\n",
       "    }\n",
       "\n",
       "    .dataframe tbody tr th {\n",
       "        vertical-align: top;\n",
       "    }\n",
       "\n",
       "    .dataframe thead th {\n",
       "        text-align: right;\n",
       "    }\n",
       "</style>\n",
       "<table border=\"1\" class=\"dataframe\">\n",
       "  <thead>\n",
       "    <tr style=\"text-align: right;\">\n",
       "      <th></th>\n",
       "      <th>instance_size</th>\n",
       "      <th>approx_result</th>\n",
       "      <th>exact_result</th>\n",
       "    </tr>\n",
       "  </thead>\n",
       "  <tbody>\n",
       "    <tr>\n",
       "      <th>0</th>\n",
       "      <td>4</td>\n",
       "      <td>15.0</td>\n",
       "      <td>15.0</td>\n",
       "    </tr>\n",
       "    <tr>\n",
       "      <th>1</th>\n",
       "      <td>4</td>\n",
       "      <td>9.0</td>\n",
       "      <td>9.0</td>\n",
       "    </tr>\n",
       "    <tr>\n",
       "      <th>2</th>\n",
       "      <td>4</td>\n",
       "      <td>17.0</td>\n",
       "      <td>17.0</td>\n",
       "    </tr>\n",
       "    <tr>\n",
       "      <th>3</th>\n",
       "      <td>4</td>\n",
       "      <td>14.0</td>\n",
       "      <td>14.0</td>\n",
       "    </tr>\n",
       "    <tr>\n",
       "      <th>4</th>\n",
       "      <td>4</td>\n",
       "      <td>16.0</td>\n",
       "      <td>16.0</td>\n",
       "    </tr>\n",
       "  </tbody>\n",
       "</table>\n",
       "</div>"
      ]
     },
     "execution_count": 19,
     "metadata": {},
     "output_type": "execute_result"
    }
   ],
   "execution_count": 19
  },
  {
   "metadata": {
    "ExecuteTime": {
     "end_time": "2025-01-06T19:13:40.880058Z",
     "start_time": "2025-01-06T19:13:40.872451Z"
    }
   },
   "cell_type": "code",
   "source": [
    "approx_exact_comp_avg = approx_exact_comp.groupby('instance_size')[['approx_result', 'exact_result']].mean()\n",
    "approx = approx_exact_comp_avg[['approx_result']]\n",
    "exact = approx_exact_comp_avg[['exact_result']]\n",
    "\n",
    "approx.head(10)"
   ],
   "id": "c6f11147af31bb79",
   "outputs": [
    {
     "data": {
      "text/plain": [
       "               approx_result\n",
       "instance_size               \n",
       "4                      14.90\n",
       "5                      17.53\n",
       "6                      18.80\n",
       "7                      20.74\n",
       "8                      21.86\n",
       "9                      24.29\n",
       "10                     25.62"
      ],
      "text/html": [
       "<div>\n",
       "<style scoped>\n",
       "    .dataframe tbody tr th:only-of-type {\n",
       "        vertical-align: middle;\n",
       "    }\n",
       "\n",
       "    .dataframe tbody tr th {\n",
       "        vertical-align: top;\n",
       "    }\n",
       "\n",
       "    .dataframe thead th {\n",
       "        text-align: right;\n",
       "    }\n",
       "</style>\n",
       "<table border=\"1\" class=\"dataframe\">\n",
       "  <thead>\n",
       "    <tr style=\"text-align: right;\">\n",
       "      <th></th>\n",
       "      <th>approx_result</th>\n",
       "    </tr>\n",
       "    <tr>\n",
       "      <th>instance_size</th>\n",
       "      <th></th>\n",
       "    </tr>\n",
       "  </thead>\n",
       "  <tbody>\n",
       "    <tr>\n",
       "      <th>4</th>\n",
       "      <td>14.90</td>\n",
       "    </tr>\n",
       "    <tr>\n",
       "      <th>5</th>\n",
       "      <td>17.53</td>\n",
       "    </tr>\n",
       "    <tr>\n",
       "      <th>6</th>\n",
       "      <td>18.80</td>\n",
       "    </tr>\n",
       "    <tr>\n",
       "      <th>7</th>\n",
       "      <td>20.74</td>\n",
       "    </tr>\n",
       "    <tr>\n",
       "      <th>8</th>\n",
       "      <td>21.86</td>\n",
       "    </tr>\n",
       "    <tr>\n",
       "      <th>9</th>\n",
       "      <td>24.29</td>\n",
       "    </tr>\n",
       "    <tr>\n",
       "      <th>10</th>\n",
       "      <td>25.62</td>\n",
       "    </tr>\n",
       "  </tbody>\n",
       "</table>\n",
       "</div>"
      ]
     },
     "execution_count": 20,
     "metadata": {},
     "output_type": "execute_result"
    }
   ],
   "execution_count": 20
  },
  {
   "metadata": {
    "ExecuteTime": {
     "end_time": "2025-01-06T19:13:40.886074Z",
     "start_time": "2025-01-06T19:13:40.881213Z"
    }
   },
   "cell_type": "code",
   "source": "exact.head(10)",
   "id": "aa21b9734d019b33",
   "outputs": [
    {
     "data": {
      "text/plain": [
       "               exact_result\n",
       "instance_size              \n",
       "4                     14.90\n",
       "5                     16.78\n",
       "6                     17.49\n",
       "7                     18.47\n",
       "8                     19.10\n",
       "9                     20.45\n",
       "10                    21.27"
      ],
      "text/html": [
       "<div>\n",
       "<style scoped>\n",
       "    .dataframe tbody tr th:only-of-type {\n",
       "        vertical-align: middle;\n",
       "    }\n",
       "\n",
       "    .dataframe tbody tr th {\n",
       "        vertical-align: top;\n",
       "    }\n",
       "\n",
       "    .dataframe thead th {\n",
       "        text-align: right;\n",
       "    }\n",
       "</style>\n",
       "<table border=\"1\" class=\"dataframe\">\n",
       "  <thead>\n",
       "    <tr style=\"text-align: right;\">\n",
       "      <th></th>\n",
       "      <th>exact_result</th>\n",
       "    </tr>\n",
       "    <tr>\n",
       "      <th>instance_size</th>\n",
       "      <th></th>\n",
       "    </tr>\n",
       "  </thead>\n",
       "  <tbody>\n",
       "    <tr>\n",
       "      <th>4</th>\n",
       "      <td>14.90</td>\n",
       "    </tr>\n",
       "    <tr>\n",
       "      <th>5</th>\n",
       "      <td>16.78</td>\n",
       "    </tr>\n",
       "    <tr>\n",
       "      <th>6</th>\n",
       "      <td>17.49</td>\n",
       "    </tr>\n",
       "    <tr>\n",
       "      <th>7</th>\n",
       "      <td>18.47</td>\n",
       "    </tr>\n",
       "    <tr>\n",
       "      <th>8</th>\n",
       "      <td>19.10</td>\n",
       "    </tr>\n",
       "    <tr>\n",
       "      <th>9</th>\n",
       "      <td>20.45</td>\n",
       "    </tr>\n",
       "    <tr>\n",
       "      <th>10</th>\n",
       "      <td>21.27</td>\n",
       "    </tr>\n",
       "  </tbody>\n",
       "</table>\n",
       "</div>"
      ]
     },
     "execution_count": 21,
     "metadata": {},
     "output_type": "execute_result"
    }
   ],
   "execution_count": 21
  },
  {
   "metadata": {
    "ExecuteTime": {
     "end_time": "2025-01-06T19:13:41.223481Z",
     "start_time": "2025-01-06T19:13:40.887093Z"
    }
   },
   "cell_type": "code",
   "source": [
    "plt.figure(figsize=(10, 6))\n",
    "plt.title(\"Approximated vs Exact result\")\n",
    "plt.plot(approx.index, approx['approx_result'], label='Approximate Solution', marker='o', color='blue')\n",
    "plt.plot(exact.index, exact['exact_result'], label='Exact Solution', marker='o', color='orange')\n",
    "plt.xlabel(\"Instance Size\")\n",
    "plt.ylabel(\"Path cost\")\n",
    "plt.legend()\n",
    "plt.savefig(\"exact_vs_approx.png\", format=\"png\", dpi=300)\n",
    "plt.show()"
   ],
   "id": "93c4e01c0527a7f",
   "outputs": [
    {
     "data": {
      "text/plain": [
       "<Figure size 1000x600 with 1 Axes>"
      ],
      "image/png": "[encoded data removed]"
     },
     "metadata": {},
     "output_type": "display_data"
    }
   ],
   "execution_count": 22
  },
  {
   "metadata": {
    "ExecuteTime": {
     "end_time": "2025-01-06T19:13:41.226336Z",
     "start_time": "2025-01-06T19:13:41.224609Z"
    }
   },
   "cell_type": "code",
   "source": "",
   "id": "dad3eaecbb57d50d",
   "outputs": [],
   "execution_count": 22
  }
 ],
 "metadata": {
  "kernelspec": {
   "display_name": "Python 3",
   "language": "python",
   "name": "python3"
  },
  "language_info": {
   "codemirror_mode": {
    "name": "ipython",
    "version": 2
   },
   "file_extension": ".py",
   "mimetype": "text/x-python",
   "name": "python",
   "nbconvert_exporter": "python",
   "pygments_lexer": "ipython2",
   "version": "2.7.6"
  }
 },
 "nbformat": 4,
 "nbformat_minor": 5
}
