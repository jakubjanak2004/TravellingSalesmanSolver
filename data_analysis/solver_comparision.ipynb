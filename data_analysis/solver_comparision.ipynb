{
 "cells": [
  {
   "cell_type": "code",
   "id": "initial_id",
   "metadata": {
    "collapsed": true,
    "ExecuteTime": {
     "end_time": "2024-12-09T09:54:10.429295Z",
     "start_time": "2024-12-09T09:54:10.426327Z"
    }
   },
   "source": [
    "import pandas as pd\n",
    "import matplotlib.pyplot as plt"
   ],
   "outputs": [],
   "execution_count": 9
  },
  {
   "metadata": {
    "ExecuteTime": {
     "end_time": "2024-12-09T09:54:10.564694Z",
     "start_time": "2024-12-09T09:54:10.562181Z"
    }
   },
   "cell_type": "code",
   "source": "data_path = '../files/data/'",
   "id": "e64fd7020ff70666",
   "outputs": [],
   "execution_count": 10
  },
  {
   "metadata": {
    "ExecuteTime": {
     "end_time": "2024-12-09T09:54:10.719869Z",
     "start_time": "2024-12-09T09:54:10.709891Z"
    }
   },
   "cell_type": "code",
   "source": [
    "solve_vs_brute_force = pd.read_csv(data_path + 'solve_vs_brute_force.csv', header=None)\n",
    "solve_vs_solve_parallel = pd.read_csv(data_path + 'solve_vs_solve_parallel.csv', header=None)\n",
    "threads_comp = pd.read_csv(data_path + 'comparing_different_num_of_threads.csv', header=None)\n",
    "\n",
    "solve_vs_brute_force.columns = ['instance_size', 'solver_t', 'time_in_ns']\n",
    "solve_vs_solve_parallel.columns = ['instance_size', 'solver_t', 'time_in_ns']\n",
    "threads_comp.columns = ['num_of_threads', 'time_in_ns']\n",
    "\n",
    "solve_vs_brute_force['solver_t'] = solve_vs_brute_force['solver_t'].str.strip()\n",
    "solve_vs_solve_parallel['solver_t'] = solve_vs_solve_parallel['solver_t'].str.strip()"
   ],
   "id": "67653af87648314c",
   "outputs": [],
   "execution_count": 11
  },
  {
   "metadata": {},
   "cell_type": "markdown",
   "source": "# Solve vs Brute Force",
   "id": "f0c74f75ef6cf2aa"
  },
  {
   "metadata": {
    "ExecuteTime": {
     "end_time": "2024-12-09T09:54:11.024019Z",
     "start_time": "2024-12-09T09:54:11.017663Z"
    }
   },
   "cell_type": "code",
   "source": "solve_vs_brute_force.info()",
   "id": "fce794262a7e658a",
   "outputs": [
    {
     "name": "stdout",
     "output_type": "stream",
     "text": [
      "<class 'pandas.core.frame.DataFrame'>\n",
      "RangeIndex: 280 entries, 0 to 279\n",
      "Data columns (total 3 columns):\n",
      " #   Column         Non-Null Count  Dtype \n",
      "---  ------         --------------  ----- \n",
      " 0   instance_size  280 non-null    int64 \n",
      " 1   solver_t       280 non-null    object\n",
      " 2   time_in_ns     280 non-null    int64 \n",
      "dtypes: int64(2), object(1)\n",
      "memory usage: 6.7+ KB\n"
     ]
    }
   ],
   "execution_count": 12
  },
  {
   "metadata": {
    "ExecuteTime": {
     "end_time": "2024-12-09T09:54:11.192044Z",
     "start_time": "2024-12-09T09:54:11.186797Z"
    }
   },
   "cell_type": "code",
   "source": "solve_vs_brute_force.head()",
   "id": "664c89d40ec383fd",
   "outputs": [
    {
     "data": {
      "text/plain": [
       "   instance_size      solver_t  time_in_ns\n",
       "0              3  branch_bound      133292\n",
       "1              3   brute_force       26459\n",
       "2              3  branch_bound       84916\n",
       "3              3   brute_force       27125\n",
       "4              3  branch_bound      102000"
      ],
      "text/html": [
       "<div>\n",
       "<style scoped>\n",
       "    .dataframe tbody tr th:only-of-type {\n",
       "        vertical-align: middle;\n",
       "    }\n",
       "\n",
       "    .dataframe tbody tr th {\n",
       "        vertical-align: top;\n",
       "    }\n",
       "\n",
       "    .dataframe thead th {\n",
       "        text-align: right;\n",
       "    }\n",
       "</style>\n",
       "<table border=\"1\" class=\"dataframe\">\n",
       "  <thead>\n",
       "    <tr style=\"text-align: right;\">\n",
       "      <th></th>\n",
       "      <th>instance_size</th>\n",
       "      <th>solver_t</th>\n",
       "      <th>time_in_ns</th>\n",
       "    </tr>\n",
       "  </thead>\n",
       "  <tbody>\n",
       "    <tr>\n",
       "      <th>0</th>\n",
       "      <td>3</td>\n",
       "      <td>branch_bound</td>\n",
       "      <td>133292</td>\n",
       "    </tr>\n",
       "    <tr>\n",
       "      <th>1</th>\n",
       "      <td>3</td>\n",
       "      <td>brute_force</td>\n",
       "      <td>26459</td>\n",
       "    </tr>\n",
       "    <tr>\n",
       "      <th>2</th>\n",
       "      <td>3</td>\n",
       "      <td>branch_bound</td>\n",
       "      <td>84916</td>\n",
       "    </tr>\n",
       "    <tr>\n",
       "      <th>3</th>\n",
       "      <td>3</td>\n",
       "      <td>brute_force</td>\n",
       "      <td>27125</td>\n",
       "    </tr>\n",
       "    <tr>\n",
       "      <th>4</th>\n",
       "      <td>3</td>\n",
       "      <td>branch_bound</td>\n",
       "      <td>102000</td>\n",
       "    </tr>\n",
       "  </tbody>\n",
       "</table>\n",
       "</div>"
      ]
     },
     "execution_count": 13,
     "metadata": {},
     "output_type": "execute_result"
    }
   ],
   "execution_count": 13
  },
  {
   "metadata": {
    "ExecuteTime": {
     "end_time": "2024-12-09T09:54:11.387772Z",
     "start_time": "2024-12-09T09:54:11.379700Z"
    }
   },
   "cell_type": "code",
   "source": [
    "solve_vs_brute_grouped = solve_vs_brute_force.groupby(['instance_size', 'solver_t'])['time_in_ns'].mean()\n",
    "solve_vs_brute_grouped = solve_vs_brute_grouped.reset_index()\n",
    "bb_data = solve_vs_brute_grouped[solve_vs_brute_grouped['solver_t'] == 'branch_bound']\n",
    "bf_data = solve_vs_brute_grouped[solve_vs_brute_grouped['solver_t'] == 'brute_force']\n",
    "\n",
    "bb_data"
   ],
   "id": "46860e941ef47048",
   "outputs": [
    {
     "data": {
      "text/plain": [
       "    instance_size      solver_t   time_in_ns\n",
       "0               3  branch_bound     87760.40\n",
       "2               4  branch_bound    196799.90\n",
       "4               5  branch_bound    475337.60\n",
       "6               6  branch_bound   1037616.65\n",
       "8               7  branch_bound   2790116.85\n",
       "10              8  branch_bound   9697622.85\n",
       "12              9  branch_bound  30891658.40"
      ],
      "text/html": [
       "<div>\n",
       "<style scoped>\n",
       "    .dataframe tbody tr th:only-of-type {\n",
       "        vertical-align: middle;\n",
       "    }\n",
       "\n",
       "    .dataframe tbody tr th {\n",
       "        vertical-align: top;\n",
       "    }\n",
       "\n",
       "    .dataframe thead th {\n",
       "        text-align: right;\n",
       "    }\n",
       "</style>\n",
       "<table border=\"1\" class=\"dataframe\">\n",
       "  <thead>\n",
       "    <tr style=\"text-align: right;\">\n",
       "      <th></th>\n",
       "      <th>instance_size</th>\n",
       "      <th>solver_t</th>\n",
       "      <th>time_in_ns</th>\n",
       "    </tr>\n",
       "  </thead>\n",
       "  <tbody>\n",
       "    <tr>\n",
       "      <th>0</th>\n",
       "      <td>3</td>\n",
       "      <td>branch_bound</td>\n",
       "      <td>87760.40</td>\n",
       "    </tr>\n",
       "    <tr>\n",
       "      <th>2</th>\n",
       "      <td>4</td>\n",
       "      <td>branch_bound</td>\n",
       "      <td>196799.90</td>\n",
       "    </tr>\n",
       "    <tr>\n",
       "      <th>4</th>\n",
       "      <td>5</td>\n",
       "      <td>branch_bound</td>\n",
       "      <td>475337.60</td>\n",
       "    </tr>\n",
       "    <tr>\n",
       "      <th>6</th>\n",
       "      <td>6</td>\n",
       "      <td>branch_bound</td>\n",
       "      <td>1037616.65</td>\n",
       "    </tr>\n",
       "    <tr>\n",
       "      <th>8</th>\n",
       "      <td>7</td>\n",
       "      <td>branch_bound</td>\n",
       "      <td>2790116.85</td>\n",
       "    </tr>\n",
       "    <tr>\n",
       "      <th>10</th>\n",
       "      <td>8</td>\n",
       "      <td>branch_bound</td>\n",
       "      <td>9697622.85</td>\n",
       "    </tr>\n",
       "    <tr>\n",
       "      <th>12</th>\n",
       "      <td>9</td>\n",
       "      <td>branch_bound</td>\n",
       "      <td>30891658.40</td>\n",
       "    </tr>\n",
       "  </tbody>\n",
       "</table>\n",
       "</div>"
      ]
     },
     "execution_count": 14,
     "metadata": {},
     "output_type": "execute_result"
    }
   ],
   "execution_count": 14
  },
  {
   "metadata": {
    "ExecuteTime": {
     "end_time": "2024-12-09T09:54:11.563624Z",
     "start_time": "2024-12-09T09:54:11.558290Z"
    }
   },
   "cell_type": "code",
   "source": "bf_data",
   "id": "f131570f036538d3",
   "outputs": [
    {
     "data": {
      "text/plain": [
       "    instance_size     solver_t    time_in_ns\n",
       "1               3  brute_force  2.430635e+04\n",
       "3               4  brute_force  7.321260e+04\n",
       "5               5  brute_force  2.900667e+05\n",
       "7               6  brute_force  1.245700e+06\n",
       "9               7  brute_force  7.823639e+06\n",
       "11              8  brute_force  6.312300e+07\n",
       "13              9  brute_force  6.123610e+08"
      ],
      "text/html": [
       "<div>\n",
       "<style scoped>\n",
       "    .dataframe tbody tr th:only-of-type {\n",
       "        vertical-align: middle;\n",
       "    }\n",
       "\n",
       "    .dataframe tbody tr th {\n",
       "        vertical-align: top;\n",
       "    }\n",
       "\n",
       "    .dataframe thead th {\n",
       "        text-align: right;\n",
       "    }\n",
       "</style>\n",
       "<table border=\"1\" class=\"dataframe\">\n",
       "  <thead>\n",
       "    <tr style=\"text-align: right;\">\n",
       "      <th></th>\n",
       "      <th>instance_size</th>\n",
       "      <th>solver_t</th>\n",
       "      <th>time_in_ns</th>\n",
       "    </tr>\n",
       "  </thead>\n",
       "  <tbody>\n",
       "    <tr>\n",
       "      <th>1</th>\n",
       "      <td>3</td>\n",
       "      <td>brute_force</td>\n",
       "      <td>2.430635e+04</td>\n",
       "    </tr>\n",
       "    <tr>\n",
       "      <th>3</th>\n",
       "      <td>4</td>\n",
       "      <td>brute_force</td>\n",
       "      <td>7.321260e+04</td>\n",
       "    </tr>\n",
       "    <tr>\n",
       "      <th>5</th>\n",
       "      <td>5</td>\n",
       "      <td>brute_force</td>\n",
       "      <td>2.900667e+05</td>\n",
       "    </tr>\n",
       "    <tr>\n",
       "      <th>7</th>\n",
       "      <td>6</td>\n",
       "      <td>brute_force</td>\n",
       "      <td>1.245700e+06</td>\n",
       "    </tr>\n",
       "    <tr>\n",
       "      <th>9</th>\n",
       "      <td>7</td>\n",
       "      <td>brute_force</td>\n",
       "      <td>7.823639e+06</td>\n",
       "    </tr>\n",
       "    <tr>\n",
       "      <th>11</th>\n",
       "      <td>8</td>\n",
       "      <td>brute_force</td>\n",
       "      <td>6.312300e+07</td>\n",
       "    </tr>\n",
       "    <tr>\n",
       "      <th>13</th>\n",
       "      <td>9</td>\n",
       "      <td>brute_force</td>\n",
       "      <td>6.123610e+08</td>\n",
       "    </tr>\n",
       "  </tbody>\n",
       "</table>\n",
       "</div>"
      ]
     },
     "execution_count": 15,
     "metadata": {},
     "output_type": "execute_result"
    }
   ],
   "execution_count": 15
  },
  {
   "metadata": {
    "ExecuteTime": {
     "end_time": "2024-12-09T09:54:12.079591Z",
     "start_time": "2024-12-09T09:54:11.736120Z"
    }
   },
   "cell_type": "code",
   "source": [
    "plt.figure(figsize=(10, 6))\n",
    "plt.title(\"Brute Force vs. Branch-Bound\")\n",
    "plt.plot(bf_data['instance_size'], bf_data['time_in_ns'], label='Brute Force', marker='o', color='r')\n",
    "plt.plot(bb_data['instance_size'], bb_data['time_in_ns'], label='Branch Bound', marker='o', color='b')\n",
    "plt.xlabel(\"Instance Size\")\n",
    "plt.ylabel(\"Time (ns)\")\n",
    "plt.legend()\n",
    "plt.savefig(\"brute_force_vs_branch_bound.png\", format=\"png\", dpi=300)\n",
    "plt.show()"
   ],
   "id": "6e2d3e2bc7b2fe4a",
   "outputs": [
    {
     "data": {
      "text/plain": [
       "<Figure size 1000x600 with 1 Axes>"
      ],
      "image/png": "[encoded data removed]"
     },
     "metadata": {},
     "output_type": "display_data"
    }
   ],
   "execution_count": 16
  },
  {
   "metadata": {},
   "cell_type": "markdown",
   "source": "# Solve vs Solve Parallel",
   "id": "ad4c1f3500b6dc0f"
  },
  {
   "metadata": {
    "ExecuteTime": {
     "end_time": "2024-12-09T09:54:12.087065Z",
     "start_time": "2024-12-09T09:54:12.080966Z"
    }
   },
   "cell_type": "code",
   "source": "solve_vs_solve_parallel.info()",
   "id": "fb2ca647c4ebbe4c",
   "outputs": [
    {
     "name": "stdout",
     "output_type": "stream",
     "text": [
      "<class 'pandas.core.frame.DataFrame'>\n",
      "RangeIndex: 440 entries, 0 to 439\n",
      "Data columns (total 3 columns):\n",
      " #   Column         Non-Null Count  Dtype \n",
      "---  ------         --------------  ----- \n",
      " 0   instance_size  440 non-null    int64 \n",
      " 1   solver_t       440 non-null    object\n",
      " 2   time_in_ns     440 non-null    int64 \n",
      "dtypes: int64(2), object(1)\n",
      "memory usage: 10.4+ KB\n"
     ]
    }
   ],
   "execution_count": 17
  },
  {
   "metadata": {
    "ExecuteTime": {
     "end_time": "2024-12-09T09:54:12.222357Z",
     "start_time": "2024-12-09T09:54:12.214603Z"
    }
   },
   "cell_type": "code",
   "source": "solve_vs_solve_parallel.head()",
   "id": "374d4b3092523e93",
   "outputs": [
    {
     "data": {
      "text/plain": [
       "   instance_size     solver_t  time_in_ns\n",
       "0              3           bb       50500\n",
       "1              3  bb_parallel      384667\n",
       "2              3           bb       51000\n",
       "3              3  bb_parallel      257083\n",
       "4              3           bb       51250"
      ],
      "text/html": [
       "<div>\n",
       "<style scoped>\n",
       "    .dataframe tbody tr th:only-of-type {\n",
       "        vertical-align: middle;\n",
       "    }\n",
       "\n",
       "    .dataframe tbody tr th {\n",
       "        vertical-align: top;\n",
       "    }\n",
       "\n",
       "    .dataframe thead th {\n",
       "        text-align: right;\n",
       "    }\n",
       "</style>\n",
       "<table border=\"1\" class=\"dataframe\">\n",
       "  <thead>\n",
       "    <tr style=\"text-align: right;\">\n",
       "      <th></th>\n",
       "      <th>instance_size</th>\n",
       "      <th>solver_t</th>\n",
       "      <th>time_in_ns</th>\n",
       "    </tr>\n",
       "  </thead>\n",
       "  <tbody>\n",
       "    <tr>\n",
       "      <th>0</th>\n",
       "      <td>3</td>\n",
       "      <td>bb</td>\n",
       "      <td>50500</td>\n",
       "    </tr>\n",
       "    <tr>\n",
       "      <th>1</th>\n",
       "      <td>3</td>\n",
       "      <td>bb_parallel</td>\n",
       "      <td>384667</td>\n",
       "    </tr>\n",
       "    <tr>\n",
       "      <th>2</th>\n",
       "      <td>3</td>\n",
       "      <td>bb</td>\n",
       "      <td>51000</td>\n",
       "    </tr>\n",
       "    <tr>\n",
       "      <th>3</th>\n",
       "      <td>3</td>\n",
       "      <td>bb_parallel</td>\n",
       "      <td>257083</td>\n",
       "    </tr>\n",
       "    <tr>\n",
       "      <th>4</th>\n",
       "      <td>3</td>\n",
       "      <td>bb</td>\n",
       "      <td>51250</td>\n",
       "    </tr>\n",
       "  </tbody>\n",
       "</table>\n",
       "</div>"
      ]
     },
     "execution_count": 18,
     "metadata": {},
     "output_type": "execute_result"
    }
   ],
   "execution_count": 18
  },
  {
   "metadata": {
    "ExecuteTime": {
     "end_time": "2024-12-09T09:54:12.527609Z",
     "start_time": "2024-12-09T09:54:12.518071Z"
    }
   },
   "cell_type": "code",
   "source": [
    "solve_vs_solve_parallel = solve_vs_solve_parallel.groupby(['instance_size', 'solver_t'])['time_in_ns'].mean()\n",
    "solve_vs_solve_parallel = solve_vs_solve_parallel.reset_index()\n",
    "bbs_data = solve_vs_solve_parallel[solve_vs_solve_parallel['solver_t'] == 'bb']\n",
    "bbp_data = solve_vs_solve_parallel[solve_vs_solve_parallel['solver_t'] == 'bb_parallel']\n",
    "\n",
    "bbs_data"
   ],
   "id": "bab11cfc375d43a4",
   "outputs": [
    {
     "data": {
      "text/plain": [
       "    instance_size solver_t    time_in_ns\n",
       "0               3       bb  4.827715e+04\n",
       "2               4       bb  1.135146e+05\n",
       "4               5       bb  3.294458e+05\n",
       "6               6       bb  8.312354e+05\n",
       "8               7       bb  2.516250e+06\n",
       "10              8       bb  8.953100e+06\n",
       "12              9       bb  2.406300e+07\n",
       "14             10       bb  6.806392e+07\n",
       "16             11       bb  2.240312e+08\n",
       "18             12       bb  5.489947e+08\n",
       "20             13       bb  1.814081e+09"
      ],
      "text/html": [
       "<div>\n",
       "<style scoped>\n",
       "    .dataframe tbody tr th:only-of-type {\n",
       "        vertical-align: middle;\n",
       "    }\n",
       "\n",
       "    .dataframe tbody tr th {\n",
       "        vertical-align: top;\n",
       "    }\n",
       "\n",
       "    .dataframe thead th {\n",
       "        text-align: right;\n",
       "    }\n",
       "</style>\n",
       "<table border=\"1\" class=\"dataframe\">\n",
       "  <thead>\n",
       "    <tr style=\"text-align: right;\">\n",
       "      <th></th>\n",
       "      <th>instance_size</th>\n",
       "      <th>solver_t</th>\n",
       "      <th>time_in_ns</th>\n",
       "    </tr>\n",
       "  </thead>\n",
       "  <tbody>\n",
       "    <tr>\n",
       "      <th>0</th>\n",
       "      <td>3</td>\n",
       "      <td>bb</td>\n",
       "      <td>4.827715e+04</td>\n",
       "    </tr>\n",
       "    <tr>\n",
       "      <th>2</th>\n",
       "      <td>4</td>\n",
       "      <td>bb</td>\n",
       "      <td>1.135146e+05</td>\n",
       "    </tr>\n",
       "    <tr>\n",
       "      <th>4</th>\n",
       "      <td>5</td>\n",
       "      <td>bb</td>\n",
       "      <td>3.294458e+05</td>\n",
       "    </tr>\n",
       "    <tr>\n",
       "      <th>6</th>\n",
       "      <td>6</td>\n",
       "      <td>bb</td>\n",
       "      <td>8.312354e+05</td>\n",
       "    </tr>\n",
       "    <tr>\n",
       "      <th>8</th>\n",
       "      <td>7</td>\n",
       "      <td>bb</td>\n",
       "      <td>2.516250e+06</td>\n",
       "    </tr>\n",
       "    <tr>\n",
       "      <th>10</th>\n",
       "      <td>8</td>\n",
       "      <td>bb</td>\n",
       "      <td>8.953100e+06</td>\n",
       "    </tr>\n",
       "    <tr>\n",
       "      <th>12</th>\n",
       "      <td>9</td>\n",
       "      <td>bb</td>\n",
       "      <td>2.406300e+07</td>\n",
       "    </tr>\n",
       "    <tr>\n",
       "      <th>14</th>\n",
       "      <td>10</td>\n",
       "      <td>bb</td>\n",
       "      <td>6.806392e+07</td>\n",
       "    </tr>\n",
       "    <tr>\n",
       "      <th>16</th>\n",
       "      <td>11</td>\n",
       "      <td>bb</td>\n",
       "      <td>2.240312e+08</td>\n",
       "    </tr>\n",
       "    <tr>\n",
       "      <th>18</th>\n",
       "      <td>12</td>\n",
       "      <td>bb</td>\n",
       "      <td>5.489947e+08</td>\n",
       "    </tr>\n",
       "    <tr>\n",
       "      <th>20</th>\n",
       "      <td>13</td>\n",
       "      <td>bb</td>\n",
       "      <td>1.814081e+09</td>\n",
       "    </tr>\n",
       "  </tbody>\n",
       "</table>\n",
       "</div>"
      ]
     },
     "execution_count": 19,
     "metadata": {},
     "output_type": "execute_result"
    }
   ],
   "execution_count": 19
  },
  {
   "metadata": {
    "ExecuteTime": {
     "end_time": "2024-12-09T09:54:13.002400Z",
     "start_time": "2024-12-09T09:54:12.996066Z"
    }
   },
   "cell_type": "code",
   "source": "bbp_data",
   "id": "3b0a3b0aca6e0bda",
   "outputs": [
    {
     "data": {
      "text/plain": [
       "    instance_size     solver_t    time_in_ns\n",
       "1               3  bb_parallel  2.428314e+05\n",
       "3               4  bb_parallel  2.821250e+05\n",
       "5               5  bb_parallel  3.677687e+05\n",
       "7               6  bb_parallel  5.503751e+05\n",
       "9               7  bb_parallel  9.798020e+05\n",
       "11              8  bb_parallel  2.191227e+06\n",
       "13              9  bb_parallel  4.996410e+06\n",
       "15             10  bb_parallel  1.450315e+07\n",
       "17             11  bb_parallel  4.747350e+07\n",
       "19             12  bb_parallel  1.193904e+08\n",
       "21             13  bb_parallel  4.353117e+08"
      ],
      "text/html": [
       "<div>\n",
       "<style scoped>\n",
       "    .dataframe tbody tr th:only-of-type {\n",
       "        vertical-align: middle;\n",
       "    }\n",
       "\n",
       "    .dataframe tbody tr th {\n",
       "        vertical-align: top;\n",
       "    }\n",
       "\n",
       "    .dataframe thead th {\n",
       "        text-align: right;\n",
       "    }\n",
       "</style>\n",
       "<table border=\"1\" class=\"dataframe\">\n",
       "  <thead>\n",
       "    <tr style=\"text-align: right;\">\n",
       "      <th></th>\n",
       "      <th>instance_size</th>\n",
       "      <th>solver_t</th>\n",
       "      <th>time_in_ns</th>\n",
       "    </tr>\n",
       "  </thead>\n",
       "  <tbody>\n",
       "    <tr>\n",
       "      <th>1</th>\n",
       "      <td>3</td>\n",
       "      <td>bb_parallel</td>\n",
       "      <td>2.428314e+05</td>\n",
       "    </tr>\n",
       "    <tr>\n",
       "      <th>3</th>\n",
       "      <td>4</td>\n",
       "      <td>bb_parallel</td>\n",
       "      <td>2.821250e+05</td>\n",
       "    </tr>\n",
       "    <tr>\n",
       "      <th>5</th>\n",
       "      <td>5</td>\n",
       "      <td>bb_parallel</td>\n",
       "      <td>3.677687e+05</td>\n",
       "    </tr>\n",
       "    <tr>\n",
       "      <th>7</th>\n",
       "      <td>6</td>\n",
       "      <td>bb_parallel</td>\n",
       "      <td>5.503751e+05</td>\n",
       "    </tr>\n",
       "    <tr>\n",
       "      <th>9</th>\n",
       "      <td>7</td>\n",
       "      <td>bb_parallel</td>\n",
       "      <td>9.798020e+05</td>\n",
       "    </tr>\n",
       "    <tr>\n",
       "      <th>11</th>\n",
       "      <td>8</td>\n",
       "      <td>bb_parallel</td>\n",
       "      <td>2.191227e+06</td>\n",
       "    </tr>\n",
       "    <tr>\n",
       "      <th>13</th>\n",
       "      <td>9</td>\n",
       "      <td>bb_parallel</td>\n",
       "      <td>4.996410e+06</td>\n",
       "    </tr>\n",
       "    <tr>\n",
       "      <th>15</th>\n",
       "      <td>10</td>\n",
       "      <td>bb_parallel</td>\n",
       "      <td>1.450315e+07</td>\n",
       "    </tr>\n",
       "    <tr>\n",
       "      <th>17</th>\n",
       "      <td>11</td>\n",
       "      <td>bb_parallel</td>\n",
       "      <td>4.747350e+07</td>\n",
       "    </tr>\n",
       "    <tr>\n",
       "      <th>19</th>\n",
       "      <td>12</td>\n",
       "      <td>bb_parallel</td>\n",
       "      <td>1.193904e+08</td>\n",
       "    </tr>\n",
       "    <tr>\n",
       "      <th>21</th>\n",
       "      <td>13</td>\n",
       "      <td>bb_parallel</td>\n",
       "      <td>4.353117e+08</td>\n",
       "    </tr>\n",
       "  </tbody>\n",
       "</table>\n",
       "</div>"
      ]
     },
     "execution_count": 20,
     "metadata": {},
     "output_type": "execute_result"
    }
   ],
   "execution_count": 20
  },
  {
   "metadata": {
    "ExecuteTime": {
     "end_time": "2024-12-09T09:54:13.784713Z",
     "start_time": "2024-12-09T09:54:13.446356Z"
    }
   },
   "cell_type": "code",
   "source": [
    "plt.figure(figsize=(10, 6))\n",
    "plt.title(\"BB vs. BB Parallel(10 threads)\")\n",
    "plt.plot(bbs_data['instance_size'], bbs_data['time_in_ns'], label='Branch and Bound', marker='o', color='blue')\n",
    "plt.plot(bbp_data['instance_size'], bbp_data['time_in_ns'], label='Branch and Bound Parallel', marker='o', color='orange')\n",
    "plt.xlabel(\"Instance Size\")\n",
    "plt.ylabel(\"Time (ns)\")\n",
    "plt.legend()\n",
    "plt.savefig(\"synchronized_vs_parallel_bb.png\", format=\"png\", dpi=300)\n",
    "plt.show()"
   ],
   "id": "8c198e9aedc987ae",
   "outputs": [
    {
     "data": {
      "text/plain": [
       "<Figure size 1000x600 with 1 Axes>"
      ],
      "image/png": "[encoded data removed]"
     },
     "metadata": {},
     "output_type": "display_data"
    }
   ],
   "execution_count": 21
  },
  {
   "metadata": {},
   "cell_type": "markdown",
   "source": "# Comparing Threads",
   "id": "e2143615de468122"
  },
  {
   "metadata": {
    "ExecuteTime": {
     "end_time": "2024-12-09T09:54:14.429049Z",
     "start_time": "2024-12-09T09:54:14.422455Z"
    }
   },
   "cell_type": "code",
   "source": "threads_comp.info()",
   "id": "c1bba9f7d3f5a1c7",
   "outputs": [
    {
     "name": "stdout",
     "output_type": "stream",
     "text": [
      "<class 'pandas.core.frame.DataFrame'>\n",
      "RangeIndex: 180 entries, 0 to 179\n",
      "Data columns (total 2 columns):\n",
      " #   Column          Non-Null Count  Dtype\n",
      "---  ------          --------------  -----\n",
      " 0   num_of_threads  180 non-null    int64\n",
      " 1   time_in_ns      180 non-null    int64\n",
      "dtypes: int64(2)\n",
      "memory usage: 2.9 KB\n"
     ]
    }
   ],
   "execution_count": 22
  },
  {
   "metadata": {
    "ExecuteTime": {
     "end_time": "2024-12-09T09:54:14.861216Z",
     "start_time": "2024-12-09T09:54:14.855434Z"
    }
   },
   "cell_type": "code",
   "source": "threads_comp.head()",
   "id": "e76b7adeb5c2e065",
   "outputs": [
    {
     "data": {
      "text/plain": [
       "   num_of_threads  time_in_ns\n",
       "0               2     4097875\n",
       "1               3     2753583\n",
       "2               4     2481792\n",
       "3               5     2206334\n",
       "4               6     1654042"
      ],
      "text/html": [
       "<div>\n",
       "<style scoped>\n",
       "    .dataframe tbody tr th:only-of-type {\n",
       "        vertical-align: middle;\n",
       "    }\n",
       "\n",
       "    .dataframe tbody tr th {\n",
       "        vertical-align: top;\n",
       "    }\n",
       "\n",
       "    .dataframe thead th {\n",
       "        text-align: right;\n",
       "    }\n",
       "</style>\n",
       "<table border=\"1\" class=\"dataframe\">\n",
       "  <thead>\n",
       "    <tr style=\"text-align: right;\">\n",
       "      <th></th>\n",
       "      <th>num_of_threads</th>\n",
       "      <th>time_in_ns</th>\n",
       "    </tr>\n",
       "  </thead>\n",
       "  <tbody>\n",
       "    <tr>\n",
       "      <th>0</th>\n",
       "      <td>2</td>\n",
       "      <td>4097875</td>\n",
       "    </tr>\n",
       "    <tr>\n",
       "      <th>1</th>\n",
       "      <td>3</td>\n",
       "      <td>2753583</td>\n",
       "    </tr>\n",
       "    <tr>\n",
       "      <th>2</th>\n",
       "      <td>4</td>\n",
       "      <td>2481792</td>\n",
       "    </tr>\n",
       "    <tr>\n",
       "      <th>3</th>\n",
       "      <td>5</td>\n",
       "      <td>2206334</td>\n",
       "    </tr>\n",
       "    <tr>\n",
       "      <th>4</th>\n",
       "      <td>6</td>\n",
       "      <td>1654042</td>\n",
       "    </tr>\n",
       "  </tbody>\n",
       "</table>\n",
       "</div>"
      ]
     },
     "execution_count": 23,
     "metadata": {},
     "output_type": "execute_result"
    }
   ],
   "execution_count": 23
  },
  {
   "metadata": {
    "ExecuteTime": {
     "end_time": "2024-12-09T09:54:15.312678Z",
     "start_time": "2024-12-09T09:54:15.306554Z"
    }
   },
   "cell_type": "code",
   "source": [
    "threads_comp = threads_comp.groupby(['num_of_threads'])['time_in_ns'].mean()\n",
    "threads_comp = threads_comp.reset_index()\n",
    "threads_comp.head()"
   ],
   "id": "8b97dbd7332fe0d5",
   "outputs": [
    {
     "data": {
      "text/plain": [
       "   num_of_threads  time_in_ns\n",
       "0               2  5594568.85\n",
       "1               3  4059043.65\n",
       "2               4  3263318.75\n",
       "3               5  2822091.75\n",
       "4               6  2468375.05"
      ],
      "text/html": [
       "<div>\n",
       "<style scoped>\n",
       "    .dataframe tbody tr th:only-of-type {\n",
       "        vertical-align: middle;\n",
       "    }\n",
       "\n",
       "    .dataframe tbody tr th {\n",
       "        vertical-align: top;\n",
       "    }\n",
       "\n",
       "    .dataframe thead th {\n",
       "        text-align: right;\n",
       "    }\n",
       "</style>\n",
       "<table border=\"1\" class=\"dataframe\">\n",
       "  <thead>\n",
       "    <tr style=\"text-align: right;\">\n",
       "      <th></th>\n",
       "      <th>num_of_threads</th>\n",
       "      <th>time_in_ns</th>\n",
       "    </tr>\n",
       "  </thead>\n",
       "  <tbody>\n",
       "    <tr>\n",
       "      <th>0</th>\n",
       "      <td>2</td>\n",
       "      <td>5594568.85</td>\n",
       "    </tr>\n",
       "    <tr>\n",
       "      <th>1</th>\n",
       "      <td>3</td>\n",
       "      <td>4059043.65</td>\n",
       "    </tr>\n",
       "    <tr>\n",
       "      <th>2</th>\n",
       "      <td>4</td>\n",
       "      <td>3263318.75</td>\n",
       "    </tr>\n",
       "    <tr>\n",
       "      <th>3</th>\n",
       "      <td>5</td>\n",
       "      <td>2822091.75</td>\n",
       "    </tr>\n",
       "    <tr>\n",
       "      <th>4</th>\n",
       "      <td>6</td>\n",
       "      <td>2468375.05</td>\n",
       "    </tr>\n",
       "  </tbody>\n",
       "</table>\n",
       "</div>"
      ]
     },
     "execution_count": 24,
     "metadata": {},
     "output_type": "execute_result"
    }
   ],
   "execution_count": 24
  },
  {
   "metadata": {
    "ExecuteTime": {
     "end_time": "2024-12-09T09:54:16.287379Z",
     "start_time": "2024-12-09T09:54:15.924354Z"
    }
   },
   "cell_type": "code",
   "source": [
    "plt.figure(figsize=(10, 6))\n",
    "plt.title(\"Comparing different number of threads\")\n",
    "plt.plot(threads_comp['num_of_threads'], threads_comp['time_in_ns'], label='Solving time', marker='o', color='blue')\n",
    "plt.xlabel(\"Number of threads\")\n",
    "plt.ylabel(\"Time (ns)\")\n",
    "plt.legend()\n",
    "plt.savefig(\"algorithm_speedup_across_thread_counts.png\", format=\"png\", dpi=300)\n",
    "plt.show()"
   ],
   "id": "ddeb8a8ebeb753d6",
   "outputs": [
    {
     "data": {
      "text/plain": [
       "<Figure size 1000x600 with 1 Axes>"
      ],
      "image/png": "[encoded data removed]"
     },
     "metadata": {},
     "output_type": "display_data"
    }
   ],
   "execution_count": 25
  },
  {
   "metadata": {},
   "cell_type": "code",
   "source": "",
   "id": "e8889055d28b838",
   "outputs": [],
   "execution_count": null
  }
 ],
 "metadata": {
  "kernelspec": {
   "display_name": "Python 3",
   "language": "python",
   "name": "python3"
  },
  "language_info": {
   "codemirror_mode": {
    "name": "ipython",
    "version": 2
   },
   "file_extension": ".py",
   "mimetype": "text/x-python",
   "name": "python",
   "nbconvert_exporter": "python",
   "pygments_lexer": "ipython2",
   "version": "2.7.6"
  }
 },
 "nbformat": 4,
 "nbformat_minor": 5
}
